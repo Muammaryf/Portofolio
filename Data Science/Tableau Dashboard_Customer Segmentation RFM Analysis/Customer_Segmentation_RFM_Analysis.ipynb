{
 "cells": [
  {
   "cell_type": "markdown",
   "id": "66a7d3ba",
   "metadata": {
    "id": "66a7d3ba"
   },
   "source": [
    "**Import Packages**"
   ]
  },
  {
   "cell_type": "code",
   "execution_count": 5,
   "id": "0e004a90",
   "metadata": {
    "id": "0e004a90"
   },
   "outputs": [],
   "source": [
    "import pandas as pd\n",
    "import numpy as np\n",
    "import matplotlib.pyplot as plt\n",
    "import seaborn as sns\n",
    "import warnings\n",
    "\n",
    "pd.set_option('display.max_columns', 100)\n",
    "warnings.filterwarnings('ignore')"
   ]
  },
  {
   "cell_type": "markdown",
   "id": "dc03e778",
   "metadata": {
    "id": "dc03e778"
   },
   "source": [
    "**Load Dataset**"
   ]
  },
  {
   "cell_type": "code",
   "execution_count": 6,
   "id": "f2c8c865",
   "metadata": {
    "colab": {
     "base_uri": "https://localhost:8080/",
     "height": 485
    },
    "id": "f2c8c865",
    "outputId": "7e77214a-b7fc-4ba3-8179-2e6ad1772bf7"
   },
   "outputs": [],
   "source": [
    "df_order = pd.read_excel('order_transactions.xlsx')\n",
    "df_cust = pd.read_csv('customer_data.csv')"
   ]
  },
  {
   "cell_type": "markdown",
   "id": "21de468e",
   "metadata": {
    "id": "21de468e"
   },
   "source": [
    "### Cleansing"
   ]
  },
  {
   "cell_type": "markdown",
   "id": "89689a82",
   "metadata": {
    "id": "89689a82"
   },
   "source": [
    "**df_order**"
   ]
  },
  {
   "cell_type": "code",
   "execution_count": 7,
   "id": "0R2NOuX-gVgr",
   "metadata": {
    "colab": {
     "base_uri": "https://localhost:8080/"
    },
    "id": "0R2NOuX-gVgr",
    "outputId": "1b6250a3-e99d-47b2-c8a9-c4e17fc82080"
   },
   "outputs": [
    {
     "name": "stdout",
     "output_type": "stream",
     "text": [
      "<class 'pandas.core.frame.DataFrame'>\n",
      "RangeIndex: 793 entries, 0 to 792\n",
      "Data columns (total 8 columns):\n",
      " #   Column          Non-Null Count  Dtype  \n",
      "---  ------          --------------  -----  \n",
      " 0   Customer ID     793 non-null    object \n",
      " 1   Gender          793 non-null    object \n",
      " 2   Marital Status  793 non-null    object \n",
      " 3   Salary          776 non-null    float64\n",
      " 4   Age             767 non-null    float64\n",
      " 5   Occupation      775 non-null    object \n",
      " 6   Customer Name   793 non-null    object \n",
      " 7   Region          793 non-null    object \n",
      "dtypes: float64(2), object(6)\n",
      "memory usage: 49.7+ KB\n"
     ]
    }
   ],
   "source": [
    "df_cust.info()"
   ]
  },
  {
   "cell_type": "code",
   "execution_count": 8,
   "id": "xl7zn7Tng09C",
   "metadata": {
    "colab": {
     "base_uri": "https://localhost:8080/"
    },
    "id": "xl7zn7Tng09C",
    "outputId": "93286713-c50d-4e16-e25b-898fce921546"
   },
   "outputs": [
    {
     "data": {
      "text/plain": [
       "Officer                     141\n",
       "Customer Analyst            138\n",
       "Customer Service            130\n",
       "Staff                       126\n",
       "Self Employed               111\n",
       "Senior Customer Relation     60\n",
       "Consultant                   57\n",
       "BOD                           7\n",
       "Manager Director              5\n",
       "Name: Occupation, dtype: int64"
      ]
     },
     "execution_count": 8,
     "metadata": {},
     "output_type": "execute_result"
    }
   ],
   "source": [
    "df_cust['Occupation'].value_counts()"
   ]
  },
  {
   "cell_type": "code",
   "execution_count": 9,
   "id": "b123522a",
   "metadata": {
    "colab": {
     "base_uri": "https://localhost:8080/",
     "height": 183
    },
    "id": "b123522a",
    "outputId": "1f50c5b3-9c65-45b8-a218-c2a0ee1d7d2f"
   },
   "outputs": [
    {
     "data": {
      "text/plain": [
       "False"
      ]
     },
     "execution_count": 9,
     "metadata": {},
     "output_type": "execute_result"
    }
   ],
   "source": [
    "#chcek for duplicates data\n",
    "df_order.duplicated().any()"
   ]
  },
  {
   "cell_type": "code",
   "execution_count": 10,
   "id": "217b79b2",
   "metadata": {
    "id": "217b79b2"
   },
   "outputs": [
    {
     "data": {
      "text/plain": [
       "Row ID           0\n",
       "Order ID         0\n",
       "Order Date       0\n",
       "Ship Date        0\n",
       "Ship Mode        0\n",
       "Customer ID      0\n",
       "Customer Name    0\n",
       "Segment          0\n",
       "Country          0\n",
       "City             0\n",
       "State            0\n",
       "Postal Code      0\n",
       "Region           0\n",
       "Product ID       0\n",
       "Category         0\n",
       "Sub-Category     0\n",
       "Product Name     0\n",
       "Sales            0\n",
       "Quantity         0\n",
       "Discount         0\n",
       "Profit           0\n",
       "dtype: int64"
      ]
     },
     "execution_count": 10,
     "metadata": {},
     "output_type": "execute_result"
    }
   ],
   "source": [
    "#missing value\n",
    "df_order.isnull().sum()"
   ]
  },
  {
   "cell_type": "code",
   "execution_count": 11,
   "id": "961baf67",
   "metadata": {
    "id": "961baf67"
   },
   "outputs": [
    {
     "data": {
      "text/plain": [
       "<AxesSubplot:xlabel='Discount'>"
      ]
     },
     "execution_count": 11,
     "metadata": {},
     "output_type": "execute_result"
    },
    {
     "data": {
      "image/png": "[encoded data removed]",
      "text/plain": [
       "<Figure size 432x288 with 1 Axes>"
      ]
     },
     "metadata": {
      "needs_background": "light"
     },
     "output_type": "display_data"
    }
   ],
   "source": [
    "#check for outliers\n",
    "sns.boxplot(df_order['Discount'])"
   ]
  },
  {
   "cell_type": "code",
   "execution_count": 12,
   "id": "58320ff6",
   "metadata": {
    "id": "58320ff6",
    "scrolled": false
   },
   "outputs": [],
   "source": [
    "Q3 = df_order['Discount'].quantile(0.75)\n",
    "Q1 = df_order['Discount'].quantile(0.25)\n",
    "IQR = Q3 - Q1\n",
    "lower_bound = Q1 - 1.5*IQR\n",
    "upper_bound = Q3 + 1.5*IQR"
   ]
  },
  {
   "cell_type": "code",
   "execution_count": 13,
   "id": "64a44644",
   "metadata": {
    "id": "64a44644"
   },
   "outputs": [],
   "source": [
    "df_order_2 = df_order.copy()"
   ]
  },
  {
   "cell_type": "code",
   "execution_count": 14,
   "id": "b657647d",
   "metadata": {
    "id": "b657647d"
   },
   "outputs": [
    {
     "data": {
      "text/plain": [
       "0.5"
      ]
     },
     "execution_count": 14,
     "metadata": {},
     "output_type": "execute_result"
    }
   ],
   "source": [
    "upper_bound"
   ]
  },
  {
   "cell_type": "code",
   "execution_count": 15,
   "id": "58853357",
   "metadata": {
    "id": "58853357"
   },
   "outputs": [],
   "source": [
    "df_order_2.loc[df_order_2['Discount']>upper_bound, 'Discount'] = upper_bound"
   ]
  },
  {
   "cell_type": "code",
   "execution_count": 16,
   "id": "fdee88a7",
   "metadata": {
    "id": "fdee88a7"
   },
   "outputs": [
    {
     "data": {
      "text/plain": [
       "<AxesSubplot:xlabel='Discount'>"
      ]
     },
     "execution_count": 16,
     "metadata": {},
     "output_type": "execute_result"
    },
    {
     "data": {
      "image/png": "[encoded data removed]",
      "text/plain": [
       "<Figure size 432x288 with 1 Axes>"
      ]
     },
     "metadata": {
      "needs_background": "light"
     },
     "output_type": "display_data"
    }
   ],
   "source": [
    "sns.boxplot(df_order_2['Discount'])"
   ]
  },
  {
   "cell_type": "code",
   "execution_count": 17,
   "id": "e659c429",
   "metadata": {
    "id": "e659c429"
   },
   "outputs": [
    {
     "data": {
      "text/plain": [
       "<AxesSubplot:xlabel='Sales'>"
      ]
     },
     "execution_count": 17,
     "metadata": {},
     "output_type": "execute_result"
    },
    {
     "data": {
      "image/png": "[encoded data removed]",
      "text/plain": [
       "<Figure size 432x288 with 1 Axes>"
      ]
     },
     "metadata": {
      "needs_background": "light"
     },
     "output_type": "display_data"
    }
   ],
   "source": [
    "sns.boxplot(df_order_2['Sales'])"
   ]
  },
  {
   "cell_type": "markdown",
   "id": "856ab262",
   "metadata": {
    "id": "856ab262"
   },
   "source": [
    "Customer Data"
   ]
  },
  {
   "cell_type": "code",
   "execution_count": 18,
   "id": "9fde9191",
   "metadata": {
    "colab": {
     "base_uri": "https://localhost:8080/",
     "height": 143
    },
    "id": "9fde9191",
    "outputId": "1db32c3d-2c54-44df-ee51-20682a4118b9"
   },
   "outputs": [
    {
     "data": {
      "text/html": [
       "<div>\n",
       "<style scoped>\n",
       "    .dataframe tbody tr th:only-of-type {\n",
       "        vertical-align: middle;\n",
       "    }\n",
       "\n",
       "    .dataframe tbody tr th {\n",
       "        vertical-align: top;\n",
       "    }\n",
       "\n",
       "    .dataframe thead th {\n",
       "        text-align: right;\n",
       "    }\n",
       "</style>\n",
       "<table border=\"1\" class=\"dataframe\">\n",
       "  <thead>\n",
       "    <tr style=\"text-align: right;\">\n",
       "      <th></th>\n",
       "      <th>Customer ID</th>\n",
       "      <th>Gender</th>\n",
       "      <th>Marital Status</th>\n",
       "      <th>Salary</th>\n",
       "      <th>Age</th>\n",
       "      <th>Occupation</th>\n",
       "      <th>Customer Name</th>\n",
       "      <th>Region</th>\n",
       "    </tr>\n",
       "  </thead>\n",
       "  <tbody>\n",
       "    <tr>\n",
       "      <th>0</th>\n",
       "      <td>FC-14335</td>\n",
       "      <td>Male</td>\n",
       "      <td>Not Married</td>\n",
       "      <td>2468.0</td>\n",
       "      <td>28.0</td>\n",
       "      <td>Senior Customer Relation</td>\n",
       "      <td>Fred Chung</td>\n",
       "      <td>West</td>\n",
       "    </tr>\n",
       "    <tr>\n",
       "      <th>1</th>\n",
       "      <td>JP-15520</td>\n",
       "      <td>Female</td>\n",
       "      <td>Married</td>\n",
       "      <td>3198.0</td>\n",
       "      <td>54.0</td>\n",
       "      <td>BOD</td>\n",
       "      <td>Jeremy Pistek</td>\n",
       "      <td>West</td>\n",
       "    </tr>\n",
       "    <tr>\n",
       "      <th>2</th>\n",
       "      <td>SR-20425</td>\n",
       "      <td>Female</td>\n",
       "      <td>Married</td>\n",
       "      <td>502.0</td>\n",
       "      <td>21.0</td>\n",
       "      <td>Self Employed</td>\n",
       "      <td>Sharelle Roach</td>\n",
       "      <td>West</td>\n",
       "    </tr>\n",
       "  </tbody>\n",
       "</table>\n",
       "</div>"
      ],
      "text/plain": [
       "  Customer ID  Gender Marital Status  Salary   Age                Occupation  \\\n",
       "0    FC-14335    Male    Not Married  2468.0  28.0  Senior Customer Relation   \n",
       "1    JP-15520  Female        Married  3198.0  54.0                       BOD   \n",
       "2    SR-20425  Female        Married   502.0  21.0             Self Employed   \n",
       "\n",
       "    Customer Name Region  \n",
       "0      Fred Chung   West  \n",
       "1   Jeremy Pistek   West  \n",
       "2  Sharelle Roach   West  "
      ]
     },
     "execution_count": 18,
     "metadata": {},
     "output_type": "execute_result"
    }
   ],
   "source": [
    "df_cust.head(3)"
   ]
  },
  {
   "cell_type": "code",
   "execution_count": 19,
   "id": "6babfac2",
   "metadata": {
    "colab": {
     "base_uri": "https://localhost:8080/"
    },
    "id": "6babfac2",
    "outputId": "f148269d-9395-41ea-eec1-f5b4a581eb72",
    "scrolled": true
   },
   "outputs": [
    {
     "data": {
      "text/plain": [
       "False"
      ]
     },
     "execution_count": 19,
     "metadata": {},
     "output_type": "execute_result"
    }
   ],
   "source": [
    "df_cust.duplicated().any()"
   ]
  },
  {
   "cell_type": "code",
   "execution_count": 20,
   "id": "bb48e15d",
   "metadata": {
    "colab": {
     "base_uri": "https://localhost:8080/"
    },
    "id": "bb48e15d",
    "outputId": "80e35c66-f500-41c2-95d5-e67b29f5156d"
   },
   "outputs": [
    {
     "data": {
      "text/plain": [
       "793"
      ]
     },
     "execution_count": 20,
     "metadata": {},
     "output_type": "execute_result"
    }
   ],
   "source": [
    "df_cust.shape[0]"
   ]
  },
  {
   "cell_type": "code",
   "execution_count": 21,
   "id": "2e5b644a",
   "metadata": {
    "colab": {
     "base_uri": "https://localhost:8080/"
    },
    "id": "2e5b644a",
    "outputId": "b8648126-90f5-40aa-c9e5-101776b60881"
   },
   "outputs": [
    {
     "data": {
      "text/plain": [
       "Customer ID       0.00\n",
       "Gender            0.00\n",
       "Marital Status    0.00\n",
       "Salary            2.14\n",
       "Age               3.28\n",
       "Occupation        2.27\n",
       "Customer Name     0.00\n",
       "Region            0.00\n",
       "dtype: float64"
      ]
     },
     "execution_count": 21,
     "metadata": {},
     "output_type": "execute_result"
    }
   ],
   "source": [
    "round(df_cust.isnull().sum()/df_cust.shape[0]*100, 2)"
   ]
  },
  {
   "cell_type": "code",
   "execution_count": 22,
   "id": "d6b31711",
   "metadata": {
    "colab": {
     "base_uri": "https://localhost:8080/",
     "height": 297
    },
    "id": "d6b31711",
    "outputId": "0db90053-f0fe-4eed-b329-667a5b132aeb"
   },
   "outputs": [
    {
     "data": {
      "text/plain": [
       "<AxesSubplot:xlabel='Salary', ylabel='Density'>"
      ]
     },
     "execution_count": 22,
     "metadata": {},
     "output_type": "execute_result"
    },
    {
     "data": {
      "image/png": "[encoded data removed]",
      "text/plain": [
       "<Figure size 432x288 with 1 Axes>"
      ]
     },
     "metadata": {
      "needs_background": "light"
     },
     "output_type": "display_data"
    }
   ],
   "source": [
    "#salary\n",
    "sns.distplot(df_cust['Salary'])"
   ]
  },
  {
   "cell_type": "code",
   "execution_count": 23,
   "id": "398f2e72",
   "metadata": {
    "id": "398f2e72"
   },
   "outputs": [],
   "source": [
    "df_cust['Salary'] = df_cust['Salary'].fillna(df_cust['Salary'].mean())"
   ]
  },
  {
   "cell_type": "code",
   "execution_count": 24,
   "id": "85900a7f",
   "metadata": {
    "colab": {
     "base_uri": "https://localhost:8080/",
     "height": 297
    },
    "id": "85900a7f",
    "outputId": "bdbcd80a-b67c-4e3b-98bc-4b610e307824"
   },
   "outputs": [
    {
     "data": {
      "text/plain": [
       "<AxesSubplot:xlabel='Age', ylabel='Density'>"
      ]
     },
     "execution_count": 24,
     "metadata": {},
     "output_type": "execute_result"
    },
    {
     "data": {
      "image/png": "[encoded data removed]",
      "text/plain": [
       "<Figure size 432x288 with 1 Axes>"
      ]
     },
     "metadata": {
      "needs_background": "light"
     },
     "output_type": "display_data"
    }
   ],
   "source": [
    "#age\n",
    "sns.distplot(df_cust['Age'])"
   ]
  },
  {
   "cell_type": "code",
   "execution_count": 25,
   "id": "db7c6488",
   "metadata": {
    "id": "db7c6488"
   },
   "outputs": [],
   "source": [
    "df_cust['Age'] = df_cust['Age'].fillna(df_cust['Age'].median())"
   ]
  },
  {
   "cell_type": "code",
   "execution_count": 26,
   "id": "fb657026",
   "metadata": {
    "colab": {
     "base_uri": "https://localhost:8080/",
     "height": 466
    },
    "id": "fb657026",
    "outputId": "8a4adb6d-9135-4ee6-aa6a-2a19b1342672",
    "scrolled": true
   },
   "outputs": [
    {
     "data": {
      "text/plain": [
       "<AxesSubplot:xlabel='Occupation', ylabel='count'>"
      ]
     },
     "execution_count": 26,
     "metadata": {},
     "output_type": "execute_result"
    },
    {
     "data": {
      "image/png": "[encoded data removed]",
      "text/plain": [
       "<Figure size 1440x720 with 1 Axes>"
      ]
     },
     "metadata": {
      "needs_background": "light"
     },
     "output_type": "display_data"
    }
   ],
   "source": [
    "#occupation\n",
    "plt.figure(figsize=(20,10))\n",
    "sns.countplot(df_cust['Occupation'])"
   ]
  },
  {
   "cell_type": "code",
   "execution_count": 27,
   "id": "b39801e1",
   "metadata": {
    "colab": {
     "base_uri": "https://localhost:8080/",
     "height": 297
    },
    "id": "b39801e1",
    "outputId": "509e429e-d51f-49a2-9dc6-209b9f4b7388"
   },
   "outputs": [
    {
     "data": {
      "text/plain": [
       "<AxesSubplot:xlabel='Salary', ylabel='Density'>"
      ]
     },
     "execution_count": 27,
     "metadata": {},
     "output_type": "execute_result"
    },
    {
     "data": {
      "image/png": "[encoded data removed]",
      "text/plain": [
       "<Figure size 432x288 with 1 Axes>"
      ]
     },
     "metadata": {
      "needs_background": "light"
     },
     "output_type": "display_data"
    }
   ],
   "source": [
    "sns.distplot(df_cust[df_cust['Occupation']=='Officer']['Salary'])"
   ]
  },
  {
   "cell_type": "code",
   "execution_count": 28,
   "id": "75797cec",
   "metadata": {
    "colab": {
     "base_uri": "https://localhost:8080/",
     "height": 206
    },
    "id": "75797cec",
    "outputId": "4af67419-6c88-498a-c3e3-111745c253f9",
    "scrolled": true
   },
   "outputs": [
    {
     "data": {
      "text/html": [
       "<div>\n",
       "<style scoped>\n",
       "    .dataframe tbody tr th:only-of-type {\n",
       "        vertical-align: middle;\n",
       "    }\n",
       "\n",
       "    .dataframe tbody tr th {\n",
       "        vertical-align: top;\n",
       "    }\n",
       "\n",
       "    .dataframe thead th {\n",
       "        text-align: right;\n",
       "    }\n",
       "</style>\n",
       "<table border=\"1\" class=\"dataframe\">\n",
       "  <thead>\n",
       "    <tr style=\"text-align: right;\">\n",
       "      <th></th>\n",
       "      <th>Customer ID</th>\n",
       "      <th>Gender</th>\n",
       "      <th>Marital Status</th>\n",
       "      <th>Salary</th>\n",
       "      <th>Age</th>\n",
       "      <th>Occupation</th>\n",
       "      <th>Customer Name</th>\n",
       "      <th>Region</th>\n",
       "    </tr>\n",
       "  </thead>\n",
       "  <tbody>\n",
       "    <tr>\n",
       "      <th>76</th>\n",
       "      <td>JM-15655</td>\n",
       "      <td>Female</td>\n",
       "      <td>Married</td>\n",
       "      <td>1203.462629</td>\n",
       "      <td>28.0</td>\n",
       "      <td>NaN</td>\n",
       "      <td>Jim Mitchum</td>\n",
       "      <td>West</td>\n",
       "    </tr>\n",
       "    <tr>\n",
       "      <th>87</th>\n",
       "      <td>PO-18850</td>\n",
       "      <td>Female</td>\n",
       "      <td>Not Married</td>\n",
       "      <td>1203.462629</td>\n",
       "      <td>28.0</td>\n",
       "      <td>NaN</td>\n",
       "      <td>Patrick O'Brill</td>\n",
       "      <td>South</td>\n",
       "    </tr>\n",
       "    <tr>\n",
       "      <th>88</th>\n",
       "      <td>JK-15625</td>\n",
       "      <td>Female</td>\n",
       "      <td>Married</td>\n",
       "      <td>1203.462629</td>\n",
       "      <td>28.0</td>\n",
       "      <td>NaN</td>\n",
       "      <td>Jim Karlsson</td>\n",
       "      <td>West</td>\n",
       "    </tr>\n",
       "    <tr>\n",
       "      <th>123</th>\n",
       "      <td>MF-18250</td>\n",
       "      <td>Female</td>\n",
       "      <td>Not Married</td>\n",
       "      <td>1203.462629</td>\n",
       "      <td>28.0</td>\n",
       "      <td>NaN</td>\n",
       "      <td>Monica Federle</td>\n",
       "      <td>South</td>\n",
       "    </tr>\n",
       "    <tr>\n",
       "      <th>272</th>\n",
       "      <td>TM-21490</td>\n",
       "      <td>Female</td>\n",
       "      <td>Married</td>\n",
       "      <td>1000.000000</td>\n",
       "      <td>28.0</td>\n",
       "      <td>NaN</td>\n",
       "      <td>Tony Molinari</td>\n",
       "      <td>East</td>\n",
       "    </tr>\n",
       "  </tbody>\n",
       "</table>\n",
       "</div>"
      ],
      "text/plain": [
       "    Customer ID  Gender Marital Status       Salary   Age Occupation  \\\n",
       "76     JM-15655  Female        Married  1203.462629  28.0        NaN   \n",
       "87     PO-18850  Female    Not Married  1203.462629  28.0        NaN   \n",
       "88     JK-15625  Female        Married  1203.462629  28.0        NaN   \n",
       "123    MF-18250  Female    Not Married  1203.462629  28.0        NaN   \n",
       "272    TM-21490  Female        Married  1000.000000  28.0        NaN   \n",
       "\n",
       "       Customer Name Region  \n",
       "76       Jim Mitchum   West  \n",
       "87   Patrick O'Brill  South  \n",
       "88      Jim Karlsson   West  \n",
       "123   Monica Federle  South  \n",
       "272    Tony Molinari   East  "
      ]
     },
     "execution_count": 28,
     "metadata": {},
     "output_type": "execute_result"
    }
   ],
   "source": [
    "df_cust[df_cust['Occupation'].isnull()].head()"
   ]
  },
  {
   "cell_type": "code",
   "execution_count": 29,
   "id": "e1124925",
   "metadata": {
    "colab": {
     "base_uri": "https://localhost:8080/",
     "height": 35
    },
    "id": "e1124925",
    "outputId": "35e6431f-f2a8-4d2b-b9e2-b1af9b361b3a"
   },
   "outputs": [
    {
     "data": {
      "text/plain": [
       "'Officer'"
      ]
     },
     "execution_count": 29,
     "metadata": {},
     "output_type": "execute_result"
    }
   ],
   "source": [
    "df_cust['Occupation'].mode()[0]"
   ]
  },
  {
   "cell_type": "code",
   "execution_count": 30,
   "id": "724e06e1",
   "metadata": {
    "id": "724e06e1"
   },
   "outputs": [],
   "source": [
    "df_cust['Occupation'] = df_cust['Occupation'].fillna(df_cust['Occupation'].mode()[0])"
   ]
  },
  {
   "cell_type": "code",
   "execution_count": 31,
   "id": "390a8354",
   "metadata": {
    "colab": {
     "base_uri": "https://localhost:8080/"
    },
    "id": "390a8354",
    "outputId": "b717eb11-bff6-41d6-f08f-a0562e92ce75"
   },
   "outputs": [
    {
     "data": {
      "text/plain": [
       "Customer ID       0\n",
       "Gender            0\n",
       "Marital Status    0\n",
       "Salary            0\n",
       "Age               0\n",
       "Occupation        0\n",
       "Customer Name     0\n",
       "Region            0\n",
       "dtype: int64"
      ]
     },
     "execution_count": 31,
     "metadata": {},
     "output_type": "execute_result"
    }
   ],
   "source": [
    "df_cust.isnull().sum()"
   ]
  },
  {
   "cell_type": "code",
   "execution_count": 32,
   "id": "b4dd699d",
   "metadata": {
    "colab": {
     "base_uri": "https://localhost:8080/",
     "height": 297
    },
    "id": "b4dd699d",
    "outputId": "e0b3f173-ed40-48e3-f191-ef30395313b3"
   },
   "outputs": [
    {
     "data": {
      "text/plain": [
       "<AxesSubplot:xlabel='Salary'>"
      ]
     },
     "execution_count": 32,
     "metadata": {},
     "output_type": "execute_result"
    },
    {
     "data": {
      "image/png": "[encoded data removed]",
      "text/plain": [
       "<Figure size 432x288 with 1 Axes>"
      ]
     },
     "metadata": {
      "needs_background": "light"
     },
     "output_type": "display_data"
    }
   ],
   "source": [
    "#check outlier\n",
    "sns.boxplot(df_cust['Salary'])"
   ]
  },
  {
   "cell_type": "code",
   "execution_count": 33,
   "id": "57f7ac8b",
   "metadata": {
    "id": "57f7ac8b"
   },
   "outputs": [],
   "source": [
    "def handling_outlier(data, kolom, upper=True):\n",
    "    Q3 = data[kolom].quantile(0.75)\n",
    "    Q1 = data[kolom].quantile(0.25)\n",
    "    IQR = Q3-Q1\n",
    "    upper_range = Q3 + 1.5*IQR\n",
    "    lower_range = Q1 - 1.5*IQR\n",
    "    \n",
    "    if upper == True:\n",
    "        return upper_range\n",
    "    else:\n",
    "        return lower_range"
   ]
  },
  {
   "cell_type": "code",
   "execution_count": 34,
   "id": "bef17dc4",
   "metadata": {
    "id": "bef17dc4"
   },
   "outputs": [],
   "source": [
    "df_cust.loc[(df_cust['Salary']>3800) & (df_cust['Age']<30), 'Salary'] = handling_outlier(df_cust, 'Salary')"
   ]
  },
  {
   "cell_type": "code",
   "execution_count": 35,
   "id": "4beece5e",
   "metadata": {
    "colab": {
     "base_uri": "https://localhost:8080/",
     "height": 297
    },
    "id": "4beece5e",
    "outputId": "fd83e24b-b0ea-4d56-a3c0-276f69a56552"
   },
   "outputs": [
    {
     "data": {
      "text/plain": [
       "<AxesSubplot:xlabel='Salary'>"
      ]
     },
     "execution_count": 35,
     "metadata": {},
     "output_type": "execute_result"
    },
    {
     "data": {
      "image/png": "[encoded data removed]",
      "text/plain": [
       "<Figure size 432x288 with 1 Axes>"
      ]
     },
     "metadata": {
      "needs_background": "light"
     },
     "output_type": "display_data"
    }
   ],
   "source": [
    "sns.boxplot(df_cust['Salary'])"
   ]
  },
  {
   "cell_type": "markdown",
   "id": "1d8ff884",
   "metadata": {
    "id": "1d8ff884"
   },
   "source": [
    "#### Join Dataframe"
   ]
  },
  {
   "cell_type": "code",
   "execution_count": 36,
   "id": "e55d48d4",
   "metadata": {
    "colab": {
     "base_uri": "https://localhost:8080/",
     "height": 143
    },
    "id": "e55d48d4",
    "outputId": "486639e1-7aef-41e9-f2c0-0819aa1e00b2"
   },
   "outputs": [
    {
     "data": {
      "text/html": [
       "<div>\n",
       "<style scoped>\n",
       "    .dataframe tbody tr th:only-of-type {\n",
       "        vertical-align: middle;\n",
       "    }\n",
       "\n",
       "    .dataframe tbody tr th {\n",
       "        vertical-align: top;\n",
       "    }\n",
       "\n",
       "    .dataframe thead th {\n",
       "        text-align: right;\n",
       "    }\n",
       "</style>\n",
       "<table border=\"1\" class=\"dataframe\">\n",
       "  <thead>\n",
       "    <tr style=\"text-align: right;\">\n",
       "      <th></th>\n",
       "      <th>Customer ID</th>\n",
       "      <th>Gender</th>\n",
       "      <th>Marital Status</th>\n",
       "      <th>Salary</th>\n",
       "      <th>Age</th>\n",
       "      <th>Occupation</th>\n",
       "      <th>Customer Name</th>\n",
       "      <th>Region</th>\n",
       "    </tr>\n",
       "  </thead>\n",
       "  <tbody>\n",
       "    <tr>\n",
       "      <th>0</th>\n",
       "      <td>FC-14335</td>\n",
       "      <td>Male</td>\n",
       "      <td>Not Married</td>\n",
       "      <td>2468.0</td>\n",
       "      <td>28.0</td>\n",
       "      <td>Senior Customer Relation</td>\n",
       "      <td>Fred Chung</td>\n",
       "      <td>West</td>\n",
       "    </tr>\n",
       "    <tr>\n",
       "      <th>1</th>\n",
       "      <td>JP-15520</td>\n",
       "      <td>Female</td>\n",
       "      <td>Married</td>\n",
       "      <td>3198.0</td>\n",
       "      <td>54.0</td>\n",
       "      <td>BOD</td>\n",
       "      <td>Jeremy Pistek</td>\n",
       "      <td>West</td>\n",
       "    </tr>\n",
       "    <tr>\n",
       "      <th>2</th>\n",
       "      <td>SR-20425</td>\n",
       "      <td>Female</td>\n",
       "      <td>Married</td>\n",
       "      <td>502.0</td>\n",
       "      <td>21.0</td>\n",
       "      <td>Self Employed</td>\n",
       "      <td>Sharelle Roach</td>\n",
       "      <td>West</td>\n",
       "    </tr>\n",
       "  </tbody>\n",
       "</table>\n",
       "</div>"
      ],
      "text/plain": [
       "  Customer ID  Gender Marital Status  Salary   Age                Occupation  \\\n",
       "0    FC-14335    Male    Not Married  2468.0  28.0  Senior Customer Relation   \n",
       "1    JP-15520  Female        Married  3198.0  54.0                       BOD   \n",
       "2    SR-20425  Female        Married   502.0  21.0             Self Employed   \n",
       "\n",
       "    Customer Name Region  \n",
       "0      Fred Chung   West  \n",
       "1   Jeremy Pistek   West  \n",
       "2  Sharelle Roach   West  "
      ]
     },
     "execution_count": 36,
     "metadata": {},
     "output_type": "execute_result"
    }
   ],
   "source": [
    "df_cust.head(3)"
   ]
  },
  {
   "cell_type": "code",
   "execution_count": 37,
   "id": "f16d9e4f",
   "metadata": {
    "colab": {
     "base_uri": "https://localhost:8080/",
     "height": 166
    },
    "id": "f16d9e4f",
    "outputId": "563aba46-c766-4cac-abe0-21b2f78ca373"
   },
   "outputs": [
    {
     "data": {
      "text/html": [
       "<div>\n",
       "<style scoped>\n",
       "    .dataframe tbody tr th:only-of-type {\n",
       "        vertical-align: middle;\n",
       "    }\n",
       "\n",
       "    .dataframe tbody tr th {\n",
       "        vertical-align: top;\n",
       "    }\n",
       "\n",
       "    .dataframe thead th {\n",
       "        text-align: right;\n",
       "    }\n",
       "</style>\n",
       "<table border=\"1\" class=\"dataframe\">\n",
       "  <thead>\n",
       "    <tr style=\"text-align: right;\">\n",
       "      <th></th>\n",
       "      <th>Row ID</th>\n",
       "      <th>Order ID</th>\n",
       "      <th>Order Date</th>\n",
       "      <th>Ship Date</th>\n",
       "      <th>Ship Mode</th>\n",
       "      <th>Customer ID</th>\n",
       "      <th>Customer Name</th>\n",
       "      <th>Segment</th>\n",
       "      <th>Country</th>\n",
       "      <th>City</th>\n",
       "      <th>State</th>\n",
       "      <th>Postal Code</th>\n",
       "      <th>Region</th>\n",
       "      <th>Product ID</th>\n",
       "      <th>Category</th>\n",
       "      <th>Sub-Category</th>\n",
       "      <th>Product Name</th>\n",
       "      <th>Sales</th>\n",
       "      <th>Quantity</th>\n",
       "      <th>Discount</th>\n",
       "      <th>Profit</th>\n",
       "    </tr>\n",
       "  </thead>\n",
       "  <tbody>\n",
       "    <tr>\n",
       "      <th>0</th>\n",
       "      <td>1</td>\n",
       "      <td>CA-2016-152156</td>\n",
       "      <td>2016-11-08</td>\n",
       "      <td>2016-11-11</td>\n",
       "      <td>Second Class</td>\n",
       "      <td>CG-12520</td>\n",
       "      <td>Claire Gute</td>\n",
       "      <td>Consumer</td>\n",
       "      <td>United States</td>\n",
       "      <td>Henderson</td>\n",
       "      <td>Kentucky</td>\n",
       "      <td>42420</td>\n",
       "      <td>South</td>\n",
       "      <td>FUR-BO-10001798</td>\n",
       "      <td>Furniture</td>\n",
       "      <td>Bookcases</td>\n",
       "      <td>Bush Somerset Collection Bookcase</td>\n",
       "      <td>261.96</td>\n",
       "      <td>2</td>\n",
       "      <td>0.0</td>\n",
       "      <td>41.9136</td>\n",
       "    </tr>\n",
       "    <tr>\n",
       "      <th>1</th>\n",
       "      <td>2</td>\n",
       "      <td>CA-2016-152156</td>\n",
       "      <td>2016-11-08</td>\n",
       "      <td>2016-11-11</td>\n",
       "      <td>Second Class</td>\n",
       "      <td>CG-12520</td>\n",
       "      <td>Claire Gute</td>\n",
       "      <td>Consumer</td>\n",
       "      <td>United States</td>\n",
       "      <td>Henderson</td>\n",
       "      <td>Kentucky</td>\n",
       "      <td>42420</td>\n",
       "      <td>South</td>\n",
       "      <td>FUR-CH-10000454</td>\n",
       "      <td>Furniture</td>\n",
       "      <td>Chairs</td>\n",
       "      <td>Hon Deluxe Fabric Upholstered Stacking Chairs,...</td>\n",
       "      <td>731.94</td>\n",
       "      <td>3</td>\n",
       "      <td>0.0</td>\n",
       "      <td>219.5820</td>\n",
       "    </tr>\n",
       "  </tbody>\n",
       "</table>\n",
       "</div>"
      ],
      "text/plain": [
       "   Row ID        Order ID Order Date  Ship Date     Ship Mode Customer ID  \\\n",
       "0       1  CA-2016-152156 2016-11-08 2016-11-11  Second Class    CG-12520   \n",
       "1       2  CA-2016-152156 2016-11-08 2016-11-11  Second Class    CG-12520   \n",
       "\n",
       "  Customer Name   Segment        Country       City     State  Postal Code  \\\n",
       "0   Claire Gute  Consumer  United States  Henderson  Kentucky        42420   \n",
       "1   Claire Gute  Consumer  United States  Henderson  Kentucky        42420   \n",
       "\n",
       "  Region       Product ID   Category Sub-Category  \\\n",
       "0  South  FUR-BO-10001798  Furniture    Bookcases   \n",
       "1  South  FUR-CH-10000454  Furniture       Chairs   \n",
       "\n",
       "                                        Product Name   Sales  Quantity  \\\n",
       "0                  Bush Somerset Collection Bookcase  261.96         2   \n",
       "1  Hon Deluxe Fabric Upholstered Stacking Chairs,...  731.94         3   \n",
       "\n",
       "   Discount    Profit  \n",
       "0       0.0   41.9136  \n",
       "1       0.0  219.5820  "
      ]
     },
     "execution_count": 37,
     "metadata": {},
     "output_type": "execute_result"
    }
   ],
   "source": [
    "df_order.head(2)"
   ]
  },
  {
   "cell_type": "code",
   "execution_count": 38,
   "id": "7427c772",
   "metadata": {
    "id": "7427c772"
   },
   "outputs": [
    {
     "data": {
      "text/plain": [
       "(9994, 28)"
      ]
     },
     "execution_count": 38,
     "metadata": {},
     "output_type": "execute_result"
    }
   ],
   "source": [
    "df_order.merge(df_cust, how='left', on=['Customer ID']).shape"
   ]
  },
  {
   "cell_type": "code",
   "execution_count": 39,
   "id": "f2da1f1e",
   "metadata": {
    "id": "f2da1f1e"
   },
   "outputs": [
    {
     "data": {
      "text/plain": [
       "(9994, 21)"
      ]
     },
     "execution_count": 39,
     "metadata": {},
     "output_type": "execute_result"
    }
   ],
   "source": [
    "df_order.shape"
   ]
  },
  {
   "cell_type": "code",
   "execution_count": 40,
   "id": "6e9c186b",
   "metadata": {
    "id": "6e9c186b"
   },
   "outputs": [],
   "source": [
    "data = df_order.merge(df_cust, how='left', on=['Customer ID'])"
   ]
  },
  {
   "cell_type": "markdown",
   "id": "6c6a3ca3",
   "metadata": {
    "id": "6c6a3ca3"
   },
   "source": [
    "### EDA"
   ]
  },
  {
   "cell_type": "markdown",
   "id": "34f210a9",
   "metadata": {
    "id": "34f210a9"
   },
   "source": [
    "Bagaimana distribusi dari sales atau penjualan"
   ]
  },
  {
   "cell_type": "code",
   "execution_count": 41,
   "id": "188fe445",
   "metadata": {
    "id": "188fe445"
   },
   "outputs": [
    {
     "data": {
      "text/plain": [
       "<AxesSubplot:xlabel='Sales', ylabel='Density'>"
      ]
     },
     "execution_count": 41,
     "metadata": {},
     "output_type": "execute_result"
    },
    {
     "data": {
      "image/png": "[encoded data removed]",
      "text/plain": [
       "<Figure size 432x288 with 1 Axes>"
      ]
     },
     "metadata": {
      "needs_background": "light"
     },
     "output_type": "display_data"
    }
   ],
   "source": [
    "sns.distplot(data['Sales'])"
   ]
  },
  {
   "cell_type": "markdown",
   "id": "dd0de3b3",
   "metadata": {
    "id": "dd0de3b3"
   },
   "source": [
    "Bagaimana Barang yang Terjual dari Tiap Kategori"
   ]
  },
  {
   "cell_type": "code",
   "execution_count": 42,
   "id": "eec822e3",
   "metadata": {
    "id": "eec822e3"
   },
   "outputs": [
    {
     "data": {
      "text/plain": [
       "<AxesSubplot:xlabel='Category'>"
      ]
     },
     "execution_count": 42,
     "metadata": {},
     "output_type": "execute_result"
    },
    {
     "data": {
      "image/png": "[encoded data removed]",
      "text/plain": [
       "<Figure size 432x288 with 1 Axes>"
      ]
     },
     "metadata": {
      "needs_background": "light"
     },
     "output_type": "display_data"
    }
   ],
   "source": [
    "data.groupby('Category')['Quantity'].sum().plot(kind='bar')"
   ]
  },
  {
   "cell_type": "markdown",
   "id": "04714ce1",
   "metadata": {
    "id": "04714ce1"
   },
   "source": [
    "Seberapa besar keuntungan dari setiap kategori"
   ]
  },
  {
   "cell_type": "code",
   "execution_count": 43,
   "id": "fb67b532",
   "metadata": {
    "id": "fb67b532"
   },
   "outputs": [
    {
     "data": {
      "text/plain": [
       "<AxesSubplot:xlabel='Category'>"
      ]
     },
     "execution_count": 43,
     "metadata": {},
     "output_type": "execute_result"
    },
    {
     "data": {
      "image/png": "[encoded data removed]",
      "text/plain": [
       "<Figure size 432x288 with 1 Axes>"
      ]
     },
     "metadata": {
      "needs_background": "light"
     },
     "output_type": "display_data"
    }
   ],
   "source": [
    "data.groupby('Category')['Profit'].sum().plot(kind='bar')"
   ]
  },
  {
   "cell_type": "code",
   "execution_count": 44,
   "id": "9e2ff088",
   "metadata": {
    "id": "9e2ff088"
   },
   "outputs": [
    {
     "data": {
      "text/plain": [
       "<AxesSubplot:xlabel='Category'>"
      ]
     },
     "execution_count": 44,
     "metadata": {},
     "output_type": "execute_result"
    },
    {
     "data": {
      "image/png": "[encoded data removed]",
      "text/plain": [
       "<Figure size 432x288 with 1 Axes>"
      ]
     },
     "metadata": {
      "needs_background": "light"
     },
     "output_type": "display_data"
    }
   ],
   "source": [
    "data.groupby('Category').agg({'Quantity': 'sum', 'Profit':'sum'}).plot(kind='bar')"
   ]
  },
  {
   "cell_type": "code",
   "execution_count": 45,
   "id": "59372ff1",
   "metadata": {
    "id": "59372ff1"
   },
   "outputs": [
    {
     "data": {
      "text/html": [
       "<div>\n",
       "<style scoped>\n",
       "    .dataframe tbody tr th:only-of-type {\n",
       "        vertical-align: middle;\n",
       "    }\n",
       "\n",
       "    .dataframe tbody tr th {\n",
       "        vertical-align: top;\n",
       "    }\n",
       "\n",
       "    .dataframe thead th {\n",
       "        text-align: right;\n",
       "    }\n",
       "</style>\n",
       "<table border=\"1\" class=\"dataframe\">\n",
       "  <thead>\n",
       "    <tr style=\"text-align: right;\">\n",
       "      <th></th>\n",
       "      <th>Category</th>\n",
       "      <th>Quantity</th>\n",
       "      <th>Profit</th>\n",
       "    </tr>\n",
       "  </thead>\n",
       "  <tbody>\n",
       "    <tr>\n",
       "      <th>0</th>\n",
       "      <td>Furniture</td>\n",
       "      <td>8028</td>\n",
       "      <td>18451.2728</td>\n",
       "    </tr>\n",
       "    <tr>\n",
       "      <th>1</th>\n",
       "      <td>Office Supplies</td>\n",
       "      <td>22906</td>\n",
       "      <td>122490.8008</td>\n",
       "    </tr>\n",
       "    <tr>\n",
       "      <th>2</th>\n",
       "      <td>Technology</td>\n",
       "      <td>6939</td>\n",
       "      <td>145454.9481</td>\n",
       "    </tr>\n",
       "  </tbody>\n",
       "</table>\n",
       "</div>"
      ],
      "text/plain": [
       "          Category  Quantity       Profit\n",
       "0        Furniture      8028   18451.2728\n",
       "1  Office Supplies     22906  122490.8008\n",
       "2       Technology      6939  145454.9481"
      ]
     },
     "execution_count": 45,
     "metadata": {},
     "output_type": "execute_result"
    }
   ],
   "source": [
    "data_cat = data.groupby('Category').agg({'Quantity': 'sum', 'Profit':'sum'}).reset_index()\n",
    "data_cat"
   ]
  },
  {
   "cell_type": "code",
   "execution_count": 46,
   "id": "f2bd22ff",
   "metadata": {
    "id": "f2bd22ff"
   },
   "outputs": [
    {
     "data": {
      "text/plain": [
       "<BarContainer object of 3 artists>"
      ]
     },
     "execution_count": 46,
     "metadata": {},
     "output_type": "execute_result"
    },
    {
     "data": {
      "image/png": "[encoded data removed]",
      "text/plain": [
       "<Figure size 720x360 with 1 Axes>"
      ]
     },
     "metadata": {
      "needs_background": "light"
     },
     "output_type": "display_data"
    }
   ],
   "source": [
    "plt.figure(figsize=(10, 5))\n",
    "plt.bar(data_cat['Category'], data_cat['Quantity'])"
   ]
  },
  {
   "cell_type": "markdown",
   "id": "042507fa",
   "metadata": {
    "id": "042507fa"
   },
   "source": [
    "Distribusi Sales per Jenis Kelamin"
   ]
  },
  {
   "cell_type": "code",
   "execution_count": 47,
   "id": "6d10f821",
   "metadata": {
    "id": "6d10f821",
    "scrolled": true
   },
   "outputs": [
    {
     "data": {
      "text/html": [
       "<div>\n",
       "<style scoped>\n",
       "    .dataframe tbody tr th:only-of-type {\n",
       "        vertical-align: middle;\n",
       "    }\n",
       "\n",
       "    .dataframe tbody tr th {\n",
       "        vertical-align: top;\n",
       "    }\n",
       "\n",
       "    .dataframe thead th {\n",
       "        text-align: right;\n",
       "    }\n",
       "</style>\n",
       "<table border=\"1\" class=\"dataframe\">\n",
       "  <thead>\n",
       "    <tr style=\"text-align: right;\">\n",
       "      <th></th>\n",
       "      <th>Row ID</th>\n",
       "      <th>Order ID</th>\n",
       "      <th>Order Date</th>\n",
       "      <th>Ship Date</th>\n",
       "      <th>Ship Mode</th>\n",
       "      <th>Customer ID</th>\n",
       "      <th>Customer Name_x</th>\n",
       "      <th>Segment</th>\n",
       "      <th>Country</th>\n",
       "      <th>City</th>\n",
       "      <th>State</th>\n",
       "      <th>Postal Code</th>\n",
       "      <th>Region_x</th>\n",
       "      <th>Product ID</th>\n",
       "      <th>Category</th>\n",
       "      <th>Sub-Category</th>\n",
       "      <th>Product Name</th>\n",
       "      <th>Sales</th>\n",
       "      <th>Quantity</th>\n",
       "      <th>Discount</th>\n",
       "      <th>Profit</th>\n",
       "      <th>Gender</th>\n",
       "      <th>Marital Status</th>\n",
       "      <th>Salary</th>\n",
       "      <th>Age</th>\n",
       "      <th>Occupation</th>\n",
       "      <th>Customer Name_y</th>\n",
       "      <th>Region_y</th>\n",
       "    </tr>\n",
       "  </thead>\n",
       "  <tbody>\n",
       "    <tr>\n",
       "      <th>0</th>\n",
       "      <td>1</td>\n",
       "      <td>CA-2016-152156</td>\n",
       "      <td>2016-11-08</td>\n",
       "      <td>2016-11-11</td>\n",
       "      <td>Second Class</td>\n",
       "      <td>CG-12520</td>\n",
       "      <td>Claire Gute</td>\n",
       "      <td>Consumer</td>\n",
       "      <td>United States</td>\n",
       "      <td>Henderson</td>\n",
       "      <td>Kentucky</td>\n",
       "      <td>42420</td>\n",
       "      <td>South</td>\n",
       "      <td>FUR-BO-10001798</td>\n",
       "      <td>Furniture</td>\n",
       "      <td>Bookcases</td>\n",
       "      <td>Bush Somerset Collection Bookcase</td>\n",
       "      <td>261.96</td>\n",
       "      <td>2</td>\n",
       "      <td>0.0</td>\n",
       "      <td>41.9136</td>\n",
       "      <td>Female</td>\n",
       "      <td>Divorced</td>\n",
       "      <td>2468.0</td>\n",
       "      <td>43.0</td>\n",
       "      <td>Senior Customer Relation</td>\n",
       "      <td>Claire Gute</td>\n",
       "      <td>Central</td>\n",
       "    </tr>\n",
       "    <tr>\n",
       "      <th>1</th>\n",
       "      <td>2</td>\n",
       "      <td>CA-2016-152156</td>\n",
       "      <td>2016-11-08</td>\n",
       "      <td>2016-11-11</td>\n",
       "      <td>Second Class</td>\n",
       "      <td>CG-12520</td>\n",
       "      <td>Claire Gute</td>\n",
       "      <td>Consumer</td>\n",
       "      <td>United States</td>\n",
       "      <td>Henderson</td>\n",
       "      <td>Kentucky</td>\n",
       "      <td>42420</td>\n",
       "      <td>South</td>\n",
       "      <td>FUR-CH-10000454</td>\n",
       "      <td>Furniture</td>\n",
       "      <td>Chairs</td>\n",
       "      <td>Hon Deluxe Fabric Upholstered Stacking Chairs,...</td>\n",
       "      <td>731.94</td>\n",
       "      <td>3</td>\n",
       "      <td>0.0</td>\n",
       "      <td>219.5820</td>\n",
       "      <td>Female</td>\n",
       "      <td>Divorced</td>\n",
       "      <td>2468.0</td>\n",
       "      <td>43.0</td>\n",
       "      <td>Senior Customer Relation</td>\n",
       "      <td>Claire Gute</td>\n",
       "      <td>Central</td>\n",
       "    </tr>\n",
       "  </tbody>\n",
       "</table>\n",
       "</div>"
      ],
      "text/plain": [
       "   Row ID        Order ID Order Date  Ship Date     Ship Mode Customer ID  \\\n",
       "0       1  CA-2016-152156 2016-11-08 2016-11-11  Second Class    CG-12520   \n",
       "1       2  CA-2016-152156 2016-11-08 2016-11-11  Second Class    CG-12520   \n",
       "\n",
       "  Customer Name_x   Segment        Country       City     State  Postal Code  \\\n",
       "0     Claire Gute  Consumer  United States  Henderson  Kentucky        42420   \n",
       "1     Claire Gute  Consumer  United States  Henderson  Kentucky        42420   \n",
       "\n",
       "  Region_x       Product ID   Category Sub-Category  \\\n",
       "0    South  FUR-BO-10001798  Furniture    Bookcases   \n",
       "1    South  FUR-CH-10000454  Furniture       Chairs   \n",
       "\n",
       "                                        Product Name   Sales  Quantity  \\\n",
       "0                  Bush Somerset Collection Bookcase  261.96         2   \n",
       "1  Hon Deluxe Fabric Upholstered Stacking Chairs,...  731.94         3   \n",
       "\n",
       "   Discount    Profit  Gender Marital Status  Salary   Age  \\\n",
       "0       0.0   41.9136  Female       Divorced  2468.0  43.0   \n",
       "1       0.0  219.5820  Female       Divorced  2468.0  43.0   \n",
       "\n",
       "                 Occupation Customer Name_y Region_y  \n",
       "0  Senior Customer Relation     Claire Gute  Central  \n",
       "1  Senior Customer Relation     Claire Gute  Central  "
      ]
     },
     "execution_count": 47,
     "metadata": {},
     "output_type": "execute_result"
    }
   ],
   "source": [
    "data.head(2)"
   ]
  },
  {
   "cell_type": "code",
   "execution_count": 48,
   "id": "819993ff",
   "metadata": {
    "id": "819993ff"
   },
   "outputs": [
    {
     "data": {
      "text/plain": [
       "<AxesSubplot:xlabel='Sales', ylabel='Density'>"
      ]
     },
     "execution_count": 48,
     "metadata": {},
     "output_type": "execute_result"
    },
    {
     "data": {
      "image/png": "[encoded data removed]",
      "text/plain": [
       "<Figure size 432x288 with 1 Axes>"
      ]
     },
     "metadata": {
      "needs_background": "light"
     },
     "output_type": "display_data"
    }
   ],
   "source": [
    "sns.distplot(data[data['Gender']=='Female']['Sales'])\n",
    "sns.distplot(data[data['Gender']=='Male']['Sales'])"
   ]
  },
  {
   "cell_type": "code",
   "execution_count": 49,
   "id": "aaabe28e",
   "metadata": {
    "id": "aaabe28e"
   },
   "outputs": [],
   "source": [
    "cat_male = data[data['Gender']=='Male'].groupby('Category')['Quantity'].sum().reset_index()\n",
    "cat_female = data[data['Gender']=='Female'].groupby('Category')['Quantity'].sum().reset_index()"
   ]
  },
  {
   "cell_type": "code",
   "execution_count": 50,
   "id": "8a016cfa",
   "metadata": {
    "id": "8a016cfa"
   },
   "outputs": [
    {
     "data": {
      "text/plain": [
       "<BarContainer object of 3 artists>"
      ]
     },
     "execution_count": 50,
     "metadata": {},
     "output_type": "execute_result"
    },
    {
     "data": {
      "image/png": "[encoded data removed]",
      "text/plain": [
       "<Figure size 720x360 with 2 Axes>"
      ]
     },
     "metadata": {
      "needs_background": "light"
     },
     "output_type": "display_data"
    }
   ],
   "source": [
    "fig, ax = plt.subplots(1, 2, figsize=(10,5))\n",
    "ax[0].bar(cat_male['Category'], cat_male['Quantity'], label='Male')\n",
    "ax[1].bar(cat_female['Category'], cat_female['Quantity'], label='Female')"
   ]
  },
  {
   "cell_type": "code",
   "execution_count": 51,
   "id": "5d3b6887",
   "metadata": {
    "id": "5d3b6887",
    "scrolled": true
   },
   "outputs": [
    {
     "data": {
      "text/plain": [
       "<AxesSubplot:xlabel='Sub-Category'>"
      ]
     },
     "execution_count": 51,
     "metadata": {},
     "output_type": "execute_result"
    },
    {
     "data": {
      "image/png": "[encoded data removed]",
      "text/plain": [
       "<Figure size 432x288 with 1 Axes>"
      ]
     },
     "metadata": {
      "needs_background": "light"
     },
     "output_type": "display_data"
    }
   ],
   "source": [
    "data.groupby('Sub-Category')['Profit'].sum().plot(kind='bar')"
   ]
  },
  {
   "cell_type": "code",
   "execution_count": 52,
   "id": "c9152ba4",
   "metadata": {
    "id": "c9152ba4"
   },
   "outputs": [
    {
     "data": {
      "text/plain": [
       "array(['Divorced', 'Married', 'Not Married'], dtype=object)"
      ]
     },
     "execution_count": 52,
     "metadata": {},
     "output_type": "execute_result"
    }
   ],
   "source": [
    "data['Marital Status'].unique()"
   ]
  },
  {
   "cell_type": "code",
   "execution_count": 53,
   "id": "6c76d893",
   "metadata": {
    "id": "6c76d893"
   },
   "outputs": [
    {
     "data": {
      "text/plain": [
       "<AxesSubplot:xlabel='Profit', ylabel='Density'>"
      ]
     },
     "execution_count": 53,
     "metadata": {},
     "output_type": "execute_result"
    },
    {
     "data": {
      "image/png": "[encoded data removed]",
      "text/plain": [
       "<Figure size 432x288 with 1 Axes>"
      ]
     },
     "metadata": {
      "needs_background": "light"
     },
     "output_type": "display_data"
    }
   ],
   "source": [
    "sns.distplot(data[data['Marital Status']=='Married']['Profit'])\n",
    "sns.distplot(data[data['Marital Status']=='Not Married']['Profit'])\n",
    "sns.distplot(data[data['Marital Status']=='Divorced']['Profit'])"
   ]
  },
  {
   "cell_type": "code",
   "execution_count": 54,
   "id": "037fb499",
   "metadata": {
    "id": "037fb499"
   },
   "outputs": [
    {
     "data": {
      "text/html": [
       "<div>\n",
       "<style scoped>\n",
       "    .dataframe tbody tr th:only-of-type {\n",
       "        vertical-align: middle;\n",
       "    }\n",
       "\n",
       "    .dataframe tbody tr th {\n",
       "        vertical-align: top;\n",
       "    }\n",
       "\n",
       "    .dataframe thead th {\n",
       "        text-align: right;\n",
       "    }\n",
       "</style>\n",
       "<table border=\"1\" class=\"dataframe\">\n",
       "  <thead>\n",
       "    <tr style=\"text-align: right;\">\n",
       "      <th></th>\n",
       "      <th>Customer ID</th>\n",
       "      <th>Gender</th>\n",
       "      <th>Marital Status</th>\n",
       "      <th>Salary</th>\n",
       "      <th>Age</th>\n",
       "      <th>Occupation</th>\n",
       "      <th>Customer Name</th>\n",
       "      <th>Region</th>\n",
       "    </tr>\n",
       "  </thead>\n",
       "  <tbody>\n",
       "    <tr>\n",
       "      <th>0</th>\n",
       "      <td>FC-14335</td>\n",
       "      <td>Male</td>\n",
       "      <td>Not Married</td>\n",
       "      <td>2468.0</td>\n",
       "      <td>28.0</td>\n",
       "      <td>Senior Customer Relation</td>\n",
       "      <td>Fred Chung</td>\n",
       "      <td>West</td>\n",
       "    </tr>\n",
       "    <tr>\n",
       "      <th>1</th>\n",
       "      <td>JP-15520</td>\n",
       "      <td>Female</td>\n",
       "      <td>Married</td>\n",
       "      <td>3198.0</td>\n",
       "      <td>54.0</td>\n",
       "      <td>BOD</td>\n",
       "      <td>Jeremy Pistek</td>\n",
       "      <td>West</td>\n",
       "    </tr>\n",
       "    <tr>\n",
       "      <th>2</th>\n",
       "      <td>SR-20425</td>\n",
       "      <td>Female</td>\n",
       "      <td>Married</td>\n",
       "      <td>502.0</td>\n",
       "      <td>21.0</td>\n",
       "      <td>Self Employed</td>\n",
       "      <td>Sharelle Roach</td>\n",
       "      <td>West</td>\n",
       "    </tr>\n",
       "    <tr>\n",
       "      <th>3</th>\n",
       "      <td>ST-20530</td>\n",
       "      <td>Male</td>\n",
       "      <td>Married</td>\n",
       "      <td>1365.0</td>\n",
       "      <td>46.0</td>\n",
       "      <td>Officer</td>\n",
       "      <td>Shui Tom</td>\n",
       "      <td>East</td>\n",
       "    </tr>\n",
       "    <tr>\n",
       "      <th>4</th>\n",
       "      <td>JL-15130</td>\n",
       "      <td>Male</td>\n",
       "      <td>Not Married</td>\n",
       "      <td>431.0</td>\n",
       "      <td>16.0</td>\n",
       "      <td>Staff</td>\n",
       "      <td>Jack Lebron</td>\n",
       "      <td>South</td>\n",
       "    </tr>\n",
       "  </tbody>\n",
       "</table>\n",
       "</div>"
      ],
      "text/plain": [
       "  Customer ID  Gender Marital Status  Salary   Age                Occupation  \\\n",
       "0    FC-14335    Male    Not Married  2468.0  28.0  Senior Customer Relation   \n",
       "1    JP-15520  Female        Married  3198.0  54.0                       BOD   \n",
       "2    SR-20425  Female        Married   502.0  21.0             Self Employed   \n",
       "3    ST-20530    Male        Married  1365.0  46.0                   Officer   \n",
       "4    JL-15130    Male    Not Married   431.0  16.0                     Staff   \n",
       "\n",
       "    Customer Name Region  \n",
       "0      Fred Chung   West  \n",
       "1   Jeremy Pistek   West  \n",
       "2  Sharelle Roach   West  \n",
       "3        Shui Tom   East  \n",
       "4     Jack Lebron  South  "
      ]
     },
     "execution_count": 54,
     "metadata": {},
     "output_type": "execute_result"
    }
   ],
   "source": [
    "df_cust.head()"
   ]
  },
  {
   "cell_type": "code",
   "execution_count": 55,
   "id": "f768f0f7",
   "metadata": {
    "id": "f768f0f7"
   },
   "outputs": [
    {
     "data": {
      "text/plain": [
       "<AxesSubplot:xlabel='Marital Status', ylabel='count'>"
      ]
     },
     "execution_count": 55,
     "metadata": {},
     "output_type": "execute_result"
    },
    {
     "data": {
      "image/png": "[encoded data removed]",
      "text/plain": [
       "<Figure size 432x288 with 1 Axes>"
      ]
     },
     "metadata": {
      "needs_background": "light"
     },
     "output_type": "display_data"
    }
   ],
   "source": [
    "sns.countplot(df_cust['Marital Status'], hue=df_cust['Gender'])"
   ]
  },
  {
   "cell_type": "code",
   "execution_count": 56,
   "id": "7aa7f40b",
   "metadata": {
    "id": "7aa7f40b"
   },
   "outputs": [
    {
     "data": {
      "text/plain": [
       "<AxesSubplot:xlabel='Age', ylabel='Density'>"
      ]
     },
     "execution_count": 56,
     "metadata": {},
     "output_type": "execute_result"
    },
    {
     "data": {
      "image/png": "[encoded data removed]",
      "text/plain": [
       "<Figure size 432x288 with 1 Axes>"
      ]
     },
     "metadata": {
      "needs_background": "light"
     },
     "output_type": "display_data"
    }
   ],
   "source": [
    "sns.distplot(df_cust[df_cust['Marital Status']=='Married']['Age'])\n",
    "sns.distplot(df_cust[df_cust['Marital Status']=='Not Married']['Age'])\n",
    "sns.distplot(df_cust[df_cust['Marital Status']=='Divorced']['Age'])"
   ]
  },
  {
   "cell_type": "markdown",
   "id": "4dbfd475",
   "metadata": {
    "id": "4dbfd475"
   },
   "source": [
    "## Data Preparation"
   ]
  },
  {
   "cell_type": "code",
   "execution_count": 57,
   "id": "4d460225",
   "metadata": {
    "id": "4d460225"
   },
   "outputs": [
    {
     "data": {
      "text/html": [
       "<div>\n",
       "<style scoped>\n",
       "    .dataframe tbody tr th:only-of-type {\n",
       "        vertical-align: middle;\n",
       "    }\n",
       "\n",
       "    .dataframe tbody tr th {\n",
       "        vertical-align: top;\n",
       "    }\n",
       "\n",
       "    .dataframe thead th {\n",
       "        text-align: right;\n",
       "    }\n",
       "</style>\n",
       "<table border=\"1\" class=\"dataframe\">\n",
       "  <thead>\n",
       "    <tr style=\"text-align: right;\">\n",
       "      <th></th>\n",
       "      <th>Customer ID</th>\n",
       "      <th>Gender</th>\n",
       "      <th>Marital Status</th>\n",
       "      <th>Salary</th>\n",
       "      <th>Age</th>\n",
       "      <th>Occupation</th>\n",
       "      <th>Customer Name</th>\n",
       "      <th>Region</th>\n",
       "    </tr>\n",
       "  </thead>\n",
       "  <tbody>\n",
       "    <tr>\n",
       "      <th>0</th>\n",
       "      <td>FC-14335</td>\n",
       "      <td>Male</td>\n",
       "      <td>Not Married</td>\n",
       "      <td>2468.0</td>\n",
       "      <td>28.0</td>\n",
       "      <td>Senior Customer Relation</td>\n",
       "      <td>Fred Chung</td>\n",
       "      <td>West</td>\n",
       "    </tr>\n",
       "    <tr>\n",
       "      <th>1</th>\n",
       "      <td>JP-15520</td>\n",
       "      <td>Female</td>\n",
       "      <td>Married</td>\n",
       "      <td>3198.0</td>\n",
       "      <td>54.0</td>\n",
       "      <td>BOD</td>\n",
       "      <td>Jeremy Pistek</td>\n",
       "      <td>West</td>\n",
       "    </tr>\n",
       "    <tr>\n",
       "      <th>2</th>\n",
       "      <td>SR-20425</td>\n",
       "      <td>Female</td>\n",
       "      <td>Married</td>\n",
       "      <td>502.0</td>\n",
       "      <td>21.0</td>\n",
       "      <td>Self Employed</td>\n",
       "      <td>Sharelle Roach</td>\n",
       "      <td>West</td>\n",
       "    </tr>\n",
       "    <tr>\n",
       "      <th>3</th>\n",
       "      <td>ST-20530</td>\n",
       "      <td>Male</td>\n",
       "      <td>Married</td>\n",
       "      <td>1365.0</td>\n",
       "      <td>46.0</td>\n",
       "      <td>Officer</td>\n",
       "      <td>Shui Tom</td>\n",
       "      <td>East</td>\n",
       "    </tr>\n",
       "    <tr>\n",
       "      <th>4</th>\n",
       "      <td>JL-15130</td>\n",
       "      <td>Male</td>\n",
       "      <td>Not Married</td>\n",
       "      <td>431.0</td>\n",
       "      <td>16.0</td>\n",
       "      <td>Staff</td>\n",
       "      <td>Jack Lebron</td>\n",
       "      <td>South</td>\n",
       "    </tr>\n",
       "  </tbody>\n",
       "</table>\n",
       "</div>"
      ],
      "text/plain": [
       "  Customer ID  Gender Marital Status  Salary   Age                Occupation  \\\n",
       "0    FC-14335    Male    Not Married  2468.0  28.0  Senior Customer Relation   \n",
       "1    JP-15520  Female        Married  3198.0  54.0                       BOD   \n",
       "2    SR-20425  Female        Married   502.0  21.0             Self Employed   \n",
       "3    ST-20530    Male        Married  1365.0  46.0                   Officer   \n",
       "4    JL-15130    Male    Not Married   431.0  16.0                     Staff   \n",
       "\n",
       "    Customer Name Region  \n",
       "0      Fred Chung   West  \n",
       "1   Jeremy Pistek   West  \n",
       "2  Sharelle Roach   West  \n",
       "3        Shui Tom   East  \n",
       "4     Jack Lebron  South  "
      ]
     },
     "execution_count": 57,
     "metadata": {},
     "output_type": "execute_result"
    }
   ],
   "source": [
    "df_cust.head()"
   ]
  },
  {
   "cell_type": "markdown",
   "id": "08e28dbf",
   "metadata": {
    "id": "08e28dbf"
   },
   "source": [
    "Melakukan binning terhadap kolom salary dan age"
   ]
  },
  {
   "cell_type": "code",
   "execution_count": 58,
   "id": "5d4f710a",
   "metadata": {
    "id": "5d4f710a"
   },
   "outputs": [
    {
     "data": {
      "text/plain": [
       "<AxesSubplot:xlabel='Salary', ylabel='Density'>"
      ]
     },
     "execution_count": 58,
     "metadata": {},
     "output_type": "execute_result"
    },
    {
     "data": {
      "image/png": "[encoded data removed]",
      "text/plain": [
       "<Figure size 432x288 with 1 Axes>"
      ]
     },
     "metadata": {
      "needs_background": "light"
     },
     "output_type": "display_data"
    }
   ],
   "source": [
    "sns.distplot(df_cust['Salary'])"
   ]
  },
  {
   "cell_type": "code",
   "execution_count": 59,
   "id": "0e190154",
   "metadata": {
    "id": "0e190154"
   },
   "outputs": [],
   "source": [
    "df_cust['Salary'] = pd.cut(df_cust['Salary'], bins=[0, 1000, 2000, 3000, 4000, 5000], labels=['0-999', '1000-1999', '2000-2999', '3000-3999', '4000+'])"
   ]
  },
  {
   "cell_type": "code",
   "execution_count": 60,
   "id": "7467c019",
   "metadata": {
    "id": "7467c019"
   },
   "outputs": [
    {
     "data": {
      "text/html": [
       "<div>\n",
       "<style scoped>\n",
       "    .dataframe tbody tr th:only-of-type {\n",
       "        vertical-align: middle;\n",
       "    }\n",
       "\n",
       "    .dataframe tbody tr th {\n",
       "        vertical-align: top;\n",
       "    }\n",
       "\n",
       "    .dataframe thead th {\n",
       "        text-align: right;\n",
       "    }\n",
       "</style>\n",
       "<table border=\"1\" class=\"dataframe\">\n",
       "  <thead>\n",
       "    <tr style=\"text-align: right;\">\n",
       "      <th></th>\n",
       "      <th>Customer ID</th>\n",
       "      <th>Gender</th>\n",
       "      <th>Marital Status</th>\n",
       "      <th>Salary</th>\n",
       "      <th>Age</th>\n",
       "      <th>Occupation</th>\n",
       "      <th>Customer Name</th>\n",
       "      <th>Region</th>\n",
       "    </tr>\n",
       "  </thead>\n",
       "  <tbody>\n",
       "    <tr>\n",
       "      <th>0</th>\n",
       "      <td>FC-14335</td>\n",
       "      <td>Male</td>\n",
       "      <td>Not Married</td>\n",
       "      <td>2000-2999</td>\n",
       "      <td>28.0</td>\n",
       "      <td>Senior Customer Relation</td>\n",
       "      <td>Fred Chung</td>\n",
       "      <td>West</td>\n",
       "    </tr>\n",
       "    <tr>\n",
       "      <th>1</th>\n",
       "      <td>JP-15520</td>\n",
       "      <td>Female</td>\n",
       "      <td>Married</td>\n",
       "      <td>3000-3999</td>\n",
       "      <td>54.0</td>\n",
       "      <td>BOD</td>\n",
       "      <td>Jeremy Pistek</td>\n",
       "      <td>West</td>\n",
       "    </tr>\n",
       "    <tr>\n",
       "      <th>2</th>\n",
       "      <td>SR-20425</td>\n",
       "      <td>Female</td>\n",
       "      <td>Married</td>\n",
       "      <td>0-999</td>\n",
       "      <td>21.0</td>\n",
       "      <td>Self Employed</td>\n",
       "      <td>Sharelle Roach</td>\n",
       "      <td>West</td>\n",
       "    </tr>\n",
       "  </tbody>\n",
       "</table>\n",
       "</div>"
      ],
      "text/plain": [
       "  Customer ID  Gender Marital Status     Salary   Age  \\\n",
       "0    FC-14335    Male    Not Married  2000-2999  28.0   \n",
       "1    JP-15520  Female        Married  3000-3999  54.0   \n",
       "2    SR-20425  Female        Married      0-999  21.0   \n",
       "\n",
       "                 Occupation   Customer Name Region  \n",
       "0  Senior Customer Relation      Fred Chung   West  \n",
       "1                       BOD   Jeremy Pistek   West  \n",
       "2             Self Employed  Sharelle Roach   West  "
      ]
     },
     "execution_count": 60,
     "metadata": {},
     "output_type": "execute_result"
    }
   ],
   "source": [
    "df_cust.head(3)"
   ]
  },
  {
   "cell_type": "code",
   "execution_count": 61,
   "id": "7c721e56",
   "metadata": {
    "id": "7c721e56"
   },
   "outputs": [
    {
     "data": {
      "text/plain": [
       "<AxesSubplot:xlabel='Age', ylabel='Density'>"
      ]
     },
     "execution_count": 61,
     "metadata": {},
     "output_type": "execute_result"
    },
    {
     "data": {
      "image/png": "[encoded data removed]",
      "text/plain": [
       "<Figure size 432x288 with 1 Axes>"
      ]
     },
     "metadata": {
      "needs_background": "light"
     },
     "output_type": "display_data"
    }
   ],
   "source": [
    "sns.distplot(df_cust['Age'])"
   ]
  },
  {
   "cell_type": "code",
   "execution_count": 62,
   "id": "d9b1ddd1",
   "metadata": {
    "id": "d9b1ddd1"
   },
   "outputs": [],
   "source": [
    "df_cust['Age'] = pd.cut(df_cust['Age'], bins=[10,25,40,60,80], labels=['10-24', '25-39', '40-59', '60+'])"
   ]
  },
  {
   "cell_type": "code",
   "execution_count": 63,
   "id": "0333259e",
   "metadata": {
    "id": "0333259e"
   },
   "outputs": [
    {
     "data": {
      "text/html": [
       "<div>\n",
       "<style scoped>\n",
       "    .dataframe tbody tr th:only-of-type {\n",
       "        vertical-align: middle;\n",
       "    }\n",
       "\n",
       "    .dataframe tbody tr th {\n",
       "        vertical-align: top;\n",
       "    }\n",
       "\n",
       "    .dataframe thead th {\n",
       "        text-align: right;\n",
       "    }\n",
       "</style>\n",
       "<table border=\"1\" class=\"dataframe\">\n",
       "  <thead>\n",
       "    <tr style=\"text-align: right;\">\n",
       "      <th></th>\n",
       "      <th>Customer ID</th>\n",
       "      <th>Gender</th>\n",
       "      <th>Marital Status</th>\n",
       "      <th>Salary</th>\n",
       "      <th>Age</th>\n",
       "      <th>Occupation</th>\n",
       "      <th>Customer Name</th>\n",
       "      <th>Region</th>\n",
       "    </tr>\n",
       "  </thead>\n",
       "  <tbody>\n",
       "    <tr>\n",
       "      <th>0</th>\n",
       "      <td>FC-14335</td>\n",
       "      <td>Male</td>\n",
       "      <td>Not Married</td>\n",
       "      <td>2000-2999</td>\n",
       "      <td>25-39</td>\n",
       "      <td>Senior Customer Relation</td>\n",
       "      <td>Fred Chung</td>\n",
       "      <td>West</td>\n",
       "    </tr>\n",
       "    <tr>\n",
       "      <th>1</th>\n",
       "      <td>JP-15520</td>\n",
       "      <td>Female</td>\n",
       "      <td>Married</td>\n",
       "      <td>3000-3999</td>\n",
       "      <td>40-59</td>\n",
       "      <td>BOD</td>\n",
       "      <td>Jeremy Pistek</td>\n",
       "      <td>West</td>\n",
       "    </tr>\n",
       "    <tr>\n",
       "      <th>2</th>\n",
       "      <td>SR-20425</td>\n",
       "      <td>Female</td>\n",
       "      <td>Married</td>\n",
       "      <td>0-999</td>\n",
       "      <td>10-24</td>\n",
       "      <td>Self Employed</td>\n",
       "      <td>Sharelle Roach</td>\n",
       "      <td>West</td>\n",
       "    </tr>\n",
       "    <tr>\n",
       "      <th>3</th>\n",
       "      <td>ST-20530</td>\n",
       "      <td>Male</td>\n",
       "      <td>Married</td>\n",
       "      <td>1000-1999</td>\n",
       "      <td>40-59</td>\n",
       "      <td>Officer</td>\n",
       "      <td>Shui Tom</td>\n",
       "      <td>East</td>\n",
       "    </tr>\n",
       "    <tr>\n",
       "      <th>4</th>\n",
       "      <td>JL-15130</td>\n",
       "      <td>Male</td>\n",
       "      <td>Not Married</td>\n",
       "      <td>0-999</td>\n",
       "      <td>10-24</td>\n",
       "      <td>Staff</td>\n",
       "      <td>Jack Lebron</td>\n",
       "      <td>South</td>\n",
       "    </tr>\n",
       "  </tbody>\n",
       "</table>\n",
       "</div>"
      ],
      "text/plain": [
       "  Customer ID  Gender Marital Status     Salary    Age  \\\n",
       "0    FC-14335    Male    Not Married  2000-2999  25-39   \n",
       "1    JP-15520  Female        Married  3000-3999  40-59   \n",
       "2    SR-20425  Female        Married      0-999  10-24   \n",
       "3    ST-20530    Male        Married  1000-1999  40-59   \n",
       "4    JL-15130    Male    Not Married      0-999  10-24   \n",
       "\n",
       "                 Occupation   Customer Name Region  \n",
       "0  Senior Customer Relation      Fred Chung   West  \n",
       "1                       BOD   Jeremy Pistek   West  \n",
       "2             Self Employed  Sharelle Roach   West  \n",
       "3                   Officer        Shui Tom   East  \n",
       "4                     Staff     Jack Lebron  South  "
      ]
     },
     "execution_count": 63,
     "metadata": {},
     "output_type": "execute_result"
    }
   ],
   "source": [
    "df_cust.head()"
   ]
  },
  {
   "cell_type": "code",
   "execution_count": 64,
   "id": "e2837d63",
   "metadata": {
    "id": "e2837d63"
   },
   "outputs": [],
   "source": [
    "df_cust.drop(columns=['Customer Name'], inplace=True)"
   ]
  },
  {
   "cell_type": "code",
   "execution_count": 65,
   "id": "d1d30b79",
   "metadata": {
    "id": "d1d30b79"
   },
   "outputs": [],
   "source": [
    "df_cust = df_cust.set_index('Customer ID')"
   ]
  },
  {
   "cell_type": "code",
   "execution_count": 66,
   "id": "67b57fc5",
   "metadata": {
    "id": "67b57fc5"
   },
   "outputs": [
    {
     "data": {
      "text/html": [
       "<div>\n",
       "<style scoped>\n",
       "    .dataframe tbody tr th:only-of-type {\n",
       "        vertical-align: middle;\n",
       "    }\n",
       "\n",
       "    .dataframe tbody tr th {\n",
       "        vertical-align: top;\n",
       "    }\n",
       "\n",
       "    .dataframe thead th {\n",
       "        text-align: right;\n",
       "    }\n",
       "</style>\n",
       "<table border=\"1\" class=\"dataframe\">\n",
       "  <thead>\n",
       "    <tr style=\"text-align: right;\">\n",
       "      <th></th>\n",
       "      <th>Gender</th>\n",
       "      <th>Marital Status</th>\n",
       "      <th>Salary</th>\n",
       "      <th>Age</th>\n",
       "      <th>Occupation</th>\n",
       "      <th>Region</th>\n",
       "    </tr>\n",
       "    <tr>\n",
       "      <th>Customer ID</th>\n",
       "      <th></th>\n",
       "      <th></th>\n",
       "      <th></th>\n",
       "      <th></th>\n",
       "      <th></th>\n",
       "      <th></th>\n",
       "    </tr>\n",
       "  </thead>\n",
       "  <tbody>\n",
       "    <tr>\n",
       "      <th>FC-14335</th>\n",
       "      <td>Male</td>\n",
       "      <td>Not Married</td>\n",
       "      <td>2000-2999</td>\n",
       "      <td>25-39</td>\n",
       "      <td>Senior Customer Relation</td>\n",
       "      <td>West</td>\n",
       "    </tr>\n",
       "    <tr>\n",
       "      <th>JP-15520</th>\n",
       "      <td>Female</td>\n",
       "      <td>Married</td>\n",
       "      <td>3000-3999</td>\n",
       "      <td>40-59</td>\n",
       "      <td>BOD</td>\n",
       "      <td>West</td>\n",
       "    </tr>\n",
       "    <tr>\n",
       "      <th>SR-20425</th>\n",
       "      <td>Female</td>\n",
       "      <td>Married</td>\n",
       "      <td>0-999</td>\n",
       "      <td>10-24</td>\n",
       "      <td>Self Employed</td>\n",
       "      <td>West</td>\n",
       "    </tr>\n",
       "  </tbody>\n",
       "</table>\n",
       "</div>"
      ],
      "text/plain": [
       "             Gender Marital Status     Salary    Age  \\\n",
       "Customer ID                                            \n",
       "FC-14335       Male    Not Married  2000-2999  25-39   \n",
       "JP-15520     Female        Married  3000-3999  40-59   \n",
       "SR-20425     Female        Married      0-999  10-24   \n",
       "\n",
       "                           Occupation Region  \n",
       "Customer ID                                   \n",
       "FC-14335     Senior Customer Relation   West  \n",
       "JP-15520                          BOD   West  \n",
       "SR-20425                Self Employed   West  "
      ]
     },
     "execution_count": 66,
     "metadata": {},
     "output_type": "execute_result"
    }
   ],
   "source": [
    "df_cust.head(3)"
   ]
  },
  {
   "cell_type": "markdown",
   "id": "b9b06748",
   "metadata": {
    "id": "b9b06748"
   },
   "source": [
    "### Modeling"
   ]
  },
  {
   "cell_type": "code",
   "execution_count": 67,
   "id": "148be14c",
   "metadata": {
    "id": "148be14c"
   },
   "outputs": [
    {
     "name": "stdout",
     "output_type": "stream",
     "text": [
      "Collecting kmodes\n",
      "  Downloading kmodes-0.11.1-py2.py3-none-any.whl (19 kB)\n",
      "Requirement already satisfied: numpy>=1.10.4 in c:\\programdata\\anaconda3\\lib\\site-packages (from kmodes) (1.20.1)\n",
      "Requirement already satisfied: scikit-learn>=0.22.0 in c:\\programdata\\anaconda3\\lib\\site-packages (from kmodes) (0.24.1)\n",
      "Requirement already satisfied: joblib>=0.11 in c:\\programdata\\anaconda3\\lib\\site-packages (from kmodes) (1.0.1)\n",
      "Requirement already satisfied: scipy>=0.13.3 in c:\\programdata\\anaconda3\\lib\\site-packages (from kmodes) (1.6.2)\n",
      "Requirement already satisfied: threadpoolctl>=2.0.0 in c:\\programdata\\anaconda3\\lib\\site-packages (from scikit-learn>=0.22.0->kmodes) (2.1.0)\n",
      "Installing collected packages: kmodes\n",
      "Successfully installed kmodes-0.11.1\n"
     ]
    }
   ],
   "source": [
    "!pip install kmodes"
   ]
  },
  {
   "cell_type": "code",
   "execution_count": 68,
   "id": "c2a47f8e",
   "metadata": {
    "id": "c2a47f8e"
   },
   "outputs": [],
   "source": [
    "from kmodes.kmodes import KModes"
   ]
  },
  {
   "cell_type": "markdown",
   "id": "3f81d295",
   "metadata": {
    "id": "3f81d295"
   },
   "source": [
    "**Elbow Method**"
   ]
  },
  {
   "cell_type": "code",
   "execution_count": 69,
   "id": "8e5a7ae2",
   "metadata": {
    "id": "8e5a7ae2"
   },
   "outputs": [
    {
     "name": "stdout",
     "output_type": "stream",
     "text": [
      "Init: initializing centroids\n",
      "Init: initializing clusters\n",
      "Starting iterations...\n",
      "Run 1, iteration: 1/100, moves: 0, cost: 2791.0\n",
      "Init: initializing centroids\n",
      "Init: initializing clusters\n",
      "Starting iterations...\n",
      "Run 2, iteration: 1/100, moves: 0, cost: 2791.0\n",
      "Init: initializing centroids\n",
      "Init: initializing clusters\n",
      "Starting iterations...\n",
      "Run 3, iteration: 1/100, moves: 0, cost: 2791.0\n",
      "Init: initializing centroids\n",
      "Init: initializing clusters\n",
      "Starting iterations...\n",
      "Run 4, iteration: 1/100, moves: 0, cost: 2791.0\n",
      "Init: initializing centroids\n",
      "Init: initializing clusters\n",
      "Starting iterations...\n",
      "Run 5, iteration: 1/100, moves: 0, cost: 2791.0\n",
      "Best run was number 1\n",
      "Init: initializing centroids\n",
      "Init: initializing clusters\n",
      "Starting iterations...\n",
      "Run 1, iteration: 1/100, moves: 230, cost: 2269.0\n",
      "Run 1, iteration: 2/100, moves: 23, cost: 2269.0\n",
      "Init: initializing centroids\n",
      "Init: initializing clusters\n",
      "Starting iterations...\n",
      "Run 2, iteration: 1/100, moves: 176, cost: 2043.0\n",
      "Init: initializing centroids\n",
      "Init: initializing clusters\n",
      "Starting iterations...\n",
      "Run 3, iteration: 1/100, moves: 213, cost: 2106.0\n",
      "Run 3, iteration: 2/100, moves: 0, cost: 2106.0\n",
      "Init: initializing centroids\n",
      "Init: initializing clusters\n",
      "Starting iterations...\n",
      "Run 4, iteration: 1/100, moves: 213, cost: 2060.0\n",
      "Run 4, iteration: 2/100, moves: 1, cost: 2060.0\n",
      "Init: initializing centroids\n",
      "Init: initializing clusters\n",
      "Starting iterations...\n",
      "Run 5, iteration: 1/100, moves: 222, cost: 2035.0\n",
      "Run 5, iteration: 2/100, moves: 6, cost: 2035.0\n",
      "Best run was number 5\n",
      "Init: initializing centroids\n",
      "Init: initializing clusters\n",
      "Starting iterations...\n",
      "Run 1, iteration: 1/100, moves: 240, cost: 1840.0\n",
      "Run 1, iteration: 2/100, moves: 33, cost: 1840.0\n",
      "Init: initializing centroids\n",
      "Init: initializing clusters\n",
      "Starting iterations...\n",
      "Run 2, iteration: 1/100, moves: 253, cost: 1864.0\n",
      "Run 2, iteration: 2/100, moves: 78, cost: 1864.0\n",
      "Init: initializing centroids\n",
      "Init: initializing clusters\n",
      "Starting iterations...\n",
      "Run 3, iteration: 1/100, moves: 31, cost: 1851.0\n",
      "Init: initializing centroids\n",
      "Init: initializing clusters\n",
      "Starting iterations...\n",
      "Run 4, iteration: 1/100, moves: 154, cost: 2050.0\n",
      "Init: initializing centroids\n",
      "Init: initializing clusters\n",
      "Starting iterations...\n",
      "Run 5, iteration: 1/100, moves: 164, cost: 1840.0\n",
      "Best run was number 1\n",
      "Init: initializing centroids\n",
      "Init: initializing clusters\n",
      "Starting iterations...\n",
      "Run 1, iteration: 1/100, moves: 74, cost: 1756.0\n",
      "Run 1, iteration: 2/100, moves: 89, cost: 1714.0\n",
      "Run 1, iteration: 3/100, moves: 1, cost: 1714.0\n",
      "Init: initializing centroids\n",
      "Init: initializing clusters\n",
      "Starting iterations...\n",
      "Run 2, iteration: 1/100, moves: 94, cost: 1765.0\n",
      "Run 2, iteration: 2/100, moves: 10, cost: 1765.0\n",
      "Init: initializing centroids\n",
      "Init: initializing clusters\n",
      "Starting iterations...\n",
      "Run 3, iteration: 1/100, moves: 341, cost: 1710.0\n",
      "Run 3, iteration: 2/100, moves: 113, cost: 1710.0\n",
      "Init: initializing centroids\n",
      "Init: initializing clusters\n",
      "Starting iterations...\n",
      "Run 4, iteration: 1/100, moves: 62, cost: 1701.0\n",
      "Init: initializing centroids\n",
      "Init: initializing clusters\n",
      "Starting iterations...\n",
      "Run 5, iteration: 1/100, moves: 191, cost: 1708.0\n",
      "Best run was number 4\n",
      "Init: initializing centroids\n",
      "Init: initializing clusters\n",
      "Starting iterations...\n",
      "Run 1, iteration: 1/100, moves: 298, cost: 1530.0\n",
      "Run 1, iteration: 2/100, moves: 87, cost: 1530.0\n",
      "Init: initializing centroids\n",
      "Init: initializing clusters\n",
      "Starting iterations...\n",
      "Run 2, iteration: 1/100, moves: 224, cost: 1521.0\n",
      "Run 2, iteration: 2/100, moves: 1, cost: 1521.0\n",
      "Init: initializing centroids\n",
      "Init: initializing clusters\n",
      "Starting iterations...\n",
      "Run 3, iteration: 1/100, moves: 281, cost: 1587.0\n",
      "Init: initializing centroids\n",
      "Init: initializing clusters\n",
      "Starting iterations...\n",
      "Run 4, iteration: 1/100, moves: 221, cost: 1595.0\n",
      "Run 4, iteration: 2/100, moves: 79, cost: 1595.0\n",
      "Init: initializing centroids\n",
      "Init: initializing clusters\n",
      "Starting iterations...\n",
      "Run 5, iteration: 1/100, moves: 187, cost: 1683.0\n",
      "Best run was number 2\n",
      "Init: initializing centroids\n",
      "Init: initializing clusters\n",
      "Starting iterations...\n",
      "Run 1, iteration: 1/100, moves: 209, cost: 1531.0\n",
      "Run 1, iteration: 2/100, moves: 18, cost: 1531.0\n",
      "Init: initializing centroids\n",
      "Init: initializing clusters\n",
      "Starting iterations...\n",
      "Run 2, iteration: 1/100, moves: 206, cost: 1486.0\n",
      "Init: initializing centroids\n",
      "Init: initializing clusters\n",
      "Starting iterations...\n",
      "Run 3, iteration: 1/100, moves: 45, cost: 1597.0\n",
      "Init: initializing centroids\n",
      "Init: initializing clusters\n",
      "Starting iterations...\n",
      "Run 4, iteration: 1/100, moves: 111, cost: 1461.0\n",
      "Init: initializing centroids\n",
      "Init: initializing clusters\n",
      "Starting iterations...\n",
      "Run 5, iteration: 1/100, moves: 0, cost: 1718.0\n",
      "Best run was number 4\n",
      "Init: initializing centroids\n",
      "Init: initializing clusters\n",
      "Starting iterations...\n",
      "Run 1, iteration: 1/100, moves: 237, cost: 1460.0\n",
      "Init: initializing centroids\n",
      "Init: initializing clusters\n",
      "Starting iterations...\n",
      "Run 2, iteration: 1/100, moves: 65, cost: 1416.0\n",
      "Init: initializing centroids\n",
      "Init: initializing clusters\n",
      "Starting iterations...\n",
      "Run 3, iteration: 1/100, moves: 0, cost: 1549.0\n",
      "Init: initializing centroids\n",
      "Init: initializing clusters\n",
      "Starting iterations...\n",
      "Run 4, iteration: 1/100, moves: 161, cost: 1402.0\n",
      "Run 4, iteration: 2/100, moves: 5, cost: 1402.0\n",
      "Init: initializing centroids\n",
      "Init: initializing clusters\n",
      "Starting iterations...\n",
      "Run 5, iteration: 1/100, moves: 204, cost: 1381.0\n",
      "Run 5, iteration: 2/100, moves: 34, cost: 1381.0\n",
      "Best run was number 5\n",
      "Init: initializing centroids\n",
      "Init: initializing clusters\n",
      "Starting iterations...\n",
      "Run 1, iteration: 1/100, moves: 112, cost: 1586.0\n",
      "Init: initializing centroids\n",
      "Init: initializing clusters\n",
      "Starting iterations...\n",
      "Run 2, iteration: 1/100, moves: 83, cost: 1351.0\n",
      "Init: initializing centroids\n",
      "Init: initializing clusters\n",
      "Starting iterations...\n",
      "Run 3, iteration: 1/100, moves: 122, cost: 1360.0\n",
      "Run 3, iteration: 2/100, moves: 17, cost: 1360.0\n",
      "Init: initializing centroids\n",
      "Init: initializing clusters\n",
      "Starting iterations...\n",
      "Run 4, iteration: 1/100, moves: 214, cost: 1342.0\n",
      "Run 4, iteration: 2/100, moves: 1, cost: 1342.0\n",
      "Init: initializing centroids\n",
      "Init: initializing clusters\n",
      "Starting iterations...\n",
      "Run 5, iteration: 1/100, moves: 110, cost: 1336.0\n",
      "Run 5, iteration: 2/100, moves: 54, cost: 1336.0\n",
      "Best run was number 5\n",
      "Init: initializing centroids\n",
      "Init: initializing clusters\n",
      "Starting iterations...\n",
      "Run 1, iteration: 1/100, moves: 85, cost: 1361.0\n",
      "Init: initializing centroids\n",
      "Init: initializing clusters\n",
      "Starting iterations...\n",
      "Run 2, iteration: 1/100, moves: 300, cost: 1275.0\n",
      "Run 2, iteration: 2/100, moves: 54, cost: 1275.0\n",
      "Init: initializing centroids\n",
      "Init: initializing clusters\n",
      "Starting iterations...\n",
      "Run 3, iteration: 1/100, moves: 93, cost: 1393.0\n",
      "Init: initializing centroids\n",
      "Init: initializing clusters\n",
      "Starting iterations...\n",
      "Run 4, iteration: 1/100, moves: 149, cost: 1332.0\n",
      "Run 4, iteration: 2/100, moves: 88, cost: 1319.0\n",
      "Run 4, iteration: 3/100, moves: 2, cost: 1319.0\n",
      "Init: initializing centroids\n",
      "Init: initializing clusters\n",
      "Starting iterations...\n",
      "Run 5, iteration: 1/100, moves: 108, cost: 1376.0\n",
      "Best run was number 2\n"
     ]
    }
   ],
   "source": [
    "cost = []\n",
    "K = range(1,10)\n",
    "\n",
    "for num_clusters in list(K):\n",
    "    kmode = KModes(n_clusters=num_clusters, init='random', n_init=5, verbose=1)\n",
    "    kmode.fit_predict(df_cust)\n",
    "    cost.append(kmode.cost_)"
   ]
  },
  {
   "cell_type": "code",
   "execution_count": 70,
   "id": "344b9e97",
   "metadata": {
    "id": "344b9e97"
   },
   "outputs": [
    {
     "data": {
      "text/plain": [
       "Text(0.5, 0, 'Num of Clusters')"
      ]
     },
     "execution_count": 70,
     "metadata": {},
     "output_type": "execute_result"
    },
    {
     "data": {
      "image/png": "[encoded data removed]",
      "text/plain": [
       "<Figure size 432x288 with 1 Axes>"
      ]
     },
     "metadata": {
      "needs_background": "light"
     },
     "output_type": "display_data"
    }
   ],
   "source": [
    "plt.plot(K, cost, 'bx-')\n",
    "plt.xlabel('Num of Clusters')"
   ]
  },
  {
   "cell_type": "code",
   "execution_count": 71,
   "id": "41668ff9",
   "metadata": {
    "id": "41668ff9"
   },
   "outputs": [
    {
     "name": "stdout",
     "output_type": "stream",
     "text": [
      "Init: initializing centroids\n",
      "Init: initializing clusters\n",
      "Starting iterations...\n",
      "Run 1, iteration: 1/100, moves: 301, cost: 1710.0\n",
      "Run 1, iteration: 2/100, moves: 131, cost: 1710.0\n",
      "Init: initializing centroids\n",
      "Init: initializing clusters\n",
      "Starting iterations...\n",
      "Run 2, iteration: 1/100, moves: 174, cost: 1737.0\n",
      "Run 2, iteration: 2/100, moves: 1, cost: 1737.0\n",
      "Init: initializing centroids\n",
      "Init: initializing clusters\n",
      "Starting iterations...\n",
      "Run 3, iteration: 1/100, moves: 165, cost: 1747.0\n",
      "Init: initializing centroids\n",
      "Init: initializing clusters\n",
      "Starting iterations...\n",
      "Run 4, iteration: 1/100, moves: 257, cost: 1669.0\n",
      "Run 4, iteration: 2/100, moves: 53, cost: 1645.0\n",
      "Run 4, iteration: 3/100, moves: 0, cost: 1645.0\n",
      "Init: initializing centroids\n",
      "Init: initializing clusters\n",
      "Starting iterations...\n",
      "Run 5, iteration: 1/100, moves: 62, cost: 1712.0\n",
      "Best run was number 4\n"
     ]
    }
   ],
   "source": [
    "#modeling ulang\n",
    "kmode = KModes(n_clusters=4, init='random', n_init=5, verbose=1, random_state=42)\n",
    "clusters = kmode.fit_predict(df_cust)"
   ]
  },
  {
   "cell_type": "code",
   "execution_count": 72,
   "id": "1aa5697f",
   "metadata": {
    "id": "1aa5697f"
   },
   "outputs": [],
   "source": [
    "df_cust['Cluster'] = clusters"
   ]
  },
  {
   "cell_type": "code",
   "execution_count": 73,
   "id": "c82ce04f",
   "metadata": {
    "id": "c82ce04f"
   },
   "outputs": [
    {
     "data": {
      "text/html": [
       "<div>\n",
       "<style scoped>\n",
       "    .dataframe tbody tr th:only-of-type {\n",
       "        vertical-align: middle;\n",
       "    }\n",
       "\n",
       "    .dataframe tbody tr th {\n",
       "        vertical-align: top;\n",
       "    }\n",
       "\n",
       "    .dataframe thead th {\n",
       "        text-align: right;\n",
       "    }\n",
       "</style>\n",
       "<table border=\"1\" class=\"dataframe\">\n",
       "  <thead>\n",
       "    <tr style=\"text-align: right;\">\n",
       "      <th></th>\n",
       "      <th>Gender</th>\n",
       "      <th>Marital Status</th>\n",
       "      <th>Salary</th>\n",
       "      <th>Age</th>\n",
       "      <th>Occupation</th>\n",
       "      <th>Region</th>\n",
       "      <th>Cluster</th>\n",
       "    </tr>\n",
       "    <tr>\n",
       "      <th>Customer ID</th>\n",
       "      <th></th>\n",
       "      <th></th>\n",
       "      <th></th>\n",
       "      <th></th>\n",
       "      <th></th>\n",
       "      <th></th>\n",
       "      <th></th>\n",
       "    </tr>\n",
       "  </thead>\n",
       "  <tbody>\n",
       "    <tr>\n",
       "      <th>FC-14335</th>\n",
       "      <td>Male</td>\n",
       "      <td>Not Married</td>\n",
       "      <td>2000-2999</td>\n",
       "      <td>25-39</td>\n",
       "      <td>Senior Customer Relation</td>\n",
       "      <td>West</td>\n",
       "      <td>0</td>\n",
       "    </tr>\n",
       "    <tr>\n",
       "      <th>JP-15520</th>\n",
       "      <td>Female</td>\n",
       "      <td>Married</td>\n",
       "      <td>3000-3999</td>\n",
       "      <td>40-59</td>\n",
       "      <td>BOD</td>\n",
       "      <td>West</td>\n",
       "      <td>1</td>\n",
       "    </tr>\n",
       "    <tr>\n",
       "      <th>SR-20425</th>\n",
       "      <td>Female</td>\n",
       "      <td>Married</td>\n",
       "      <td>0-999</td>\n",
       "      <td>10-24</td>\n",
       "      <td>Self Employed</td>\n",
       "      <td>West</td>\n",
       "      <td>2</td>\n",
       "    </tr>\n",
       "    <tr>\n",
       "      <th>ST-20530</th>\n",
       "      <td>Male</td>\n",
       "      <td>Married</td>\n",
       "      <td>1000-1999</td>\n",
       "      <td>40-59</td>\n",
       "      <td>Officer</td>\n",
       "      <td>East</td>\n",
       "      <td>1</td>\n",
       "    </tr>\n",
       "    <tr>\n",
       "      <th>JL-15130</th>\n",
       "      <td>Male</td>\n",
       "      <td>Not Married</td>\n",
       "      <td>0-999</td>\n",
       "      <td>10-24</td>\n",
       "      <td>Staff</td>\n",
       "      <td>South</td>\n",
       "      <td>3</td>\n",
       "    </tr>\n",
       "  </tbody>\n",
       "</table>\n",
       "</div>"
      ],
      "text/plain": [
       "             Gender Marital Status     Salary    Age  \\\n",
       "Customer ID                                            \n",
       "FC-14335       Male    Not Married  2000-2999  25-39   \n",
       "JP-15520     Female        Married  3000-3999  40-59   \n",
       "SR-20425     Female        Married      0-999  10-24   \n",
       "ST-20530       Male        Married  1000-1999  40-59   \n",
       "JL-15130       Male    Not Married      0-999  10-24   \n",
       "\n",
       "                           Occupation Region  Cluster  \n",
       "Customer ID                                            \n",
       "FC-14335     Senior Customer Relation   West        0  \n",
       "JP-15520                          BOD   West        1  \n",
       "SR-20425                Self Employed   West        2  \n",
       "ST-20530                      Officer   East        1  \n",
       "JL-15130                        Staff  South        3  "
      ]
     },
     "execution_count": 73,
     "metadata": {},
     "output_type": "execute_result"
    }
   ],
   "source": [
    "df_cust.head()"
   ]
  },
  {
   "cell_type": "code",
   "execution_count": 74,
   "id": "442a7329",
   "metadata": {
    "id": "442a7329",
    "scrolled": true
   },
   "outputs": [
    {
     "data": {
      "text/html": [
       "<div>\n",
       "<style scoped>\n",
       "    .dataframe tbody tr th:only-of-type {\n",
       "        vertical-align: middle;\n",
       "    }\n",
       "\n",
       "    .dataframe tbody tr th {\n",
       "        vertical-align: top;\n",
       "    }\n",
       "\n",
       "    .dataframe thead tr th {\n",
       "        text-align: left;\n",
       "    }\n",
       "\n",
       "    .dataframe thead tr:last-of-type th {\n",
       "        text-align: right;\n",
       "    }\n",
       "</style>\n",
       "<table border=\"1\" class=\"dataframe\">\n",
       "  <thead>\n",
       "    <tr>\n",
       "      <th></th>\n",
       "      <th colspan=\"4\" halign=\"left\">Gender</th>\n",
       "      <th colspan=\"4\" halign=\"left\">Marital Status</th>\n",
       "      <th colspan=\"4\" halign=\"left\">Salary</th>\n",
       "      <th colspan=\"4\" halign=\"left\">Age</th>\n",
       "      <th colspan=\"4\" halign=\"left\">Occupation</th>\n",
       "      <th colspan=\"4\" halign=\"left\">Region</th>\n",
       "    </tr>\n",
       "    <tr>\n",
       "      <th></th>\n",
       "      <th>count</th>\n",
       "      <th>unique</th>\n",
       "      <th>top</th>\n",
       "      <th>freq</th>\n",
       "      <th>count</th>\n",
       "      <th>unique</th>\n",
       "      <th>top</th>\n",
       "      <th>freq</th>\n",
       "      <th>count</th>\n",
       "      <th>unique</th>\n",
       "      <th>top</th>\n",
       "      <th>freq</th>\n",
       "      <th>count</th>\n",
       "      <th>unique</th>\n",
       "      <th>top</th>\n",
       "      <th>freq</th>\n",
       "      <th>count</th>\n",
       "      <th>unique</th>\n",
       "      <th>top</th>\n",
       "      <th>freq</th>\n",
       "      <th>count</th>\n",
       "      <th>unique</th>\n",
       "      <th>top</th>\n",
       "      <th>freq</th>\n",
       "    </tr>\n",
       "    <tr>\n",
       "      <th>Cluster</th>\n",
       "      <th></th>\n",
       "      <th></th>\n",
       "      <th></th>\n",
       "      <th></th>\n",
       "      <th></th>\n",
       "      <th></th>\n",
       "      <th></th>\n",
       "      <th></th>\n",
       "      <th></th>\n",
       "      <th></th>\n",
       "      <th></th>\n",
       "      <th></th>\n",
       "      <th></th>\n",
       "      <th></th>\n",
       "      <th></th>\n",
       "      <th></th>\n",
       "      <th></th>\n",
       "      <th></th>\n",
       "      <th></th>\n",
       "      <th></th>\n",
       "      <th></th>\n",
       "      <th></th>\n",
       "      <th></th>\n",
       "      <th></th>\n",
       "    </tr>\n",
       "  </thead>\n",
       "  <tbody>\n",
       "    <tr>\n",
       "      <th>0</th>\n",
       "      <td>296</td>\n",
       "      <td>2</td>\n",
       "      <td>Female</td>\n",
       "      <td>189</td>\n",
       "      <td>296</td>\n",
       "      <td>3</td>\n",
       "      <td>Not Married</td>\n",
       "      <td>217</td>\n",
       "      <td>296</td>\n",
       "      <td>5</td>\n",
       "      <td>1000-1999</td>\n",
       "      <td>188</td>\n",
       "      <td>296</td>\n",
       "      <td>4</td>\n",
       "      <td>25-39</td>\n",
       "      <td>250</td>\n",
       "      <td>296</td>\n",
       "      <td>9</td>\n",
       "      <td>Officer</td>\n",
       "      <td>120</td>\n",
       "      <td>296</td>\n",
       "      <td>4</td>\n",
       "      <td>East</td>\n",
       "      <td>123</td>\n",
       "    </tr>\n",
       "    <tr>\n",
       "      <th>1</th>\n",
       "      <td>161</td>\n",
       "      <td>2</td>\n",
       "      <td>Male</td>\n",
       "      <td>118</td>\n",
       "      <td>161</td>\n",
       "      <td>3</td>\n",
       "      <td>Married</td>\n",
       "      <td>127</td>\n",
       "      <td>161</td>\n",
       "      <td>4</td>\n",
       "      <td>1000-1999</td>\n",
       "      <td>106</td>\n",
       "      <td>161</td>\n",
       "      <td>4</td>\n",
       "      <td>40-59</td>\n",
       "      <td>101</td>\n",
       "      <td>161</td>\n",
       "      <td>8</td>\n",
       "      <td>Customer Analyst</td>\n",
       "      <td>68</td>\n",
       "      <td>161</td>\n",
       "      <td>4</td>\n",
       "      <td>West</td>\n",
       "      <td>84</td>\n",
       "    </tr>\n",
       "    <tr>\n",
       "      <th>2</th>\n",
       "      <td>210</td>\n",
       "      <td>2</td>\n",
       "      <td>Female</td>\n",
       "      <td>155</td>\n",
       "      <td>210</td>\n",
       "      <td>3</td>\n",
       "      <td>Married</td>\n",
       "      <td>154</td>\n",
       "      <td>210</td>\n",
       "      <td>3</td>\n",
       "      <td>0-999</td>\n",
       "      <td>203</td>\n",
       "      <td>210</td>\n",
       "      <td>3</td>\n",
       "      <td>10-24</td>\n",
       "      <td>168</td>\n",
       "      <td>210</td>\n",
       "      <td>6</td>\n",
       "      <td>Customer Service</td>\n",
       "      <td>99</td>\n",
       "      <td>210</td>\n",
       "      <td>4</td>\n",
       "      <td>West</td>\n",
       "      <td>106</td>\n",
       "    </tr>\n",
       "    <tr>\n",
       "      <th>3</th>\n",
       "      <td>126</td>\n",
       "      <td>2</td>\n",
       "      <td>Male</td>\n",
       "      <td>112</td>\n",
       "      <td>126</td>\n",
       "      <td>3</td>\n",
       "      <td>Not Married</td>\n",
       "      <td>100</td>\n",
       "      <td>126</td>\n",
       "      <td>3</td>\n",
       "      <td>0-999</td>\n",
       "      <td>124</td>\n",
       "      <td>126</td>\n",
       "      <td>3</td>\n",
       "      <td>10-24</td>\n",
       "      <td>91</td>\n",
       "      <td>126</td>\n",
       "      <td>5</td>\n",
       "      <td>Self Employed</td>\n",
       "      <td>54</td>\n",
       "      <td>126</td>\n",
       "      <td>4</td>\n",
       "      <td>East</td>\n",
       "      <td>56</td>\n",
       "    </tr>\n",
       "  </tbody>\n",
       "</table>\n",
       "</div>"
      ],
      "text/plain": [
       "        Gender                     Marital Status                           \\\n",
       "         count unique     top freq          count unique          top freq   \n",
       "Cluster                                                                      \n",
       "0          296      2  Female  189            296      3  Not Married  217   \n",
       "1          161      2    Male  118            161      3      Married  127   \n",
       "2          210      2  Female  155            210      3      Married  154   \n",
       "3          126      2    Male  112            126      3  Not Married  100   \n",
       "\n",
       "        Salary                          Age                    Occupation  \\\n",
       "         count unique        top freq count unique    top freq      count   \n",
       "Cluster                                                                     \n",
       "0          296      5  1000-1999  188   296      4  25-39  250        296   \n",
       "1          161      4  1000-1999  106   161      4  40-59  101        161   \n",
       "2          210      3      0-999  203   210      3  10-24  168        210   \n",
       "3          126      3      0-999  124   126      3  10-24   91        126   \n",
       "\n",
       "                                      Region                    \n",
       "        unique               top freq  count unique   top freq  \n",
       "Cluster                                                         \n",
       "0            9           Officer  120    296      4  East  123  \n",
       "1            8  Customer Analyst   68    161      4  West   84  \n",
       "2            6  Customer Service   99    210      4  West  106  \n",
       "3            5     Self Employed   54    126      4  East   56  "
      ]
     },
     "execution_count": 74,
     "metadata": {},
     "output_type": "execute_result"
    }
   ],
   "source": [
    "df_cust.groupby('Cluster').describe()"
   ]
  },
  {
   "cell_type": "code",
   "execution_count": 75,
   "id": "f2b040f1",
   "metadata": {
    "id": "f2b040f1"
   },
   "outputs": [
    {
     "data": {
      "text/plain": [
       "Series([], Name: Marital Status, dtype: int64)"
      ]
     },
     "execution_count": 75,
     "metadata": {},
     "output_type": "execute_result"
    }
   ],
   "source": [
    "df_cust[df_cust['Cluster']==4]['Marital Status'].value_counts()"
   ]
  },
  {
   "cell_type": "markdown",
   "id": "343c11dc",
   "metadata": {
    "id": "343c11dc"
   },
   "source": [
    "#### Summary Cluster\n",
    "\n",
    "- Cluster 0 : Perempuan berusia 10-24 dan sudah menikah, pekerjaan customer service dengan range salary 0-999 di region west\n",
    "- Cluster 1 : Perempuan berusia 25-39 dan Belum/Tidak menikah, pekerjaan Officer dengan range salary 1000-1999 di region west\n",
    "- Cluster 2 : laki-laki berusia 40-59 dan sudah menikah, pekerjaan Officer dengan range salary 1000-1999 di region East\n",
    "- Cluster 3 : Laki-laki berusia 25-39 dan Belum/Tidak menikah, pekerjaan staff dengan range salary 0-999 di region East\n",
    "*   Item daftar\n",
    "\n"
   ]
  },
  {
   "cell_type": "code",
   "execution_count": 76,
   "id": "Fxt4WLhc_9o4",
   "metadata": {
    "id": "Fxt4WLhc_9o4"
   },
   "outputs": [
    {
     "data": {
      "text/html": [
       "<div>\n",
       "<style scoped>\n",
       "    .dataframe tbody tr th:only-of-type {\n",
       "        vertical-align: middle;\n",
       "    }\n",
       "\n",
       "    .dataframe tbody tr th {\n",
       "        vertical-align: top;\n",
       "    }\n",
       "\n",
       "    .dataframe thead th {\n",
       "        text-align: right;\n",
       "    }\n",
       "</style>\n",
       "<table border=\"1\" class=\"dataframe\">\n",
       "  <thead>\n",
       "    <tr style=\"text-align: right;\">\n",
       "      <th></th>\n",
       "      <th>Gender</th>\n",
       "      <th>Marital Status</th>\n",
       "      <th>Salary</th>\n",
       "      <th>Age</th>\n",
       "      <th>Occupation</th>\n",
       "      <th>Region</th>\n",
       "      <th>Cluster</th>\n",
       "    </tr>\n",
       "    <tr>\n",
       "      <th>Customer ID</th>\n",
       "      <th></th>\n",
       "      <th></th>\n",
       "      <th></th>\n",
       "      <th></th>\n",
       "      <th></th>\n",
       "      <th></th>\n",
       "      <th></th>\n",
       "    </tr>\n",
       "  </thead>\n",
       "  <tbody>\n",
       "    <tr>\n",
       "      <th>FC-14335</th>\n",
       "      <td>Male</td>\n",
       "      <td>Not Married</td>\n",
       "      <td>2000-2999</td>\n",
       "      <td>25-39</td>\n",
       "      <td>Senior Customer Relation</td>\n",
       "      <td>West</td>\n",
       "      <td>0</td>\n",
       "    </tr>\n",
       "    <tr>\n",
       "      <th>JP-15520</th>\n",
       "      <td>Female</td>\n",
       "      <td>Married</td>\n",
       "      <td>3000-3999</td>\n",
       "      <td>40-59</td>\n",
       "      <td>BOD</td>\n",
       "      <td>West</td>\n",
       "      <td>1</td>\n",
       "    </tr>\n",
       "    <tr>\n",
       "      <th>SR-20425</th>\n",
       "      <td>Female</td>\n",
       "      <td>Married</td>\n",
       "      <td>0-999</td>\n",
       "      <td>10-24</td>\n",
       "      <td>Self Employed</td>\n",
       "      <td>West</td>\n",
       "      <td>2</td>\n",
       "    </tr>\n",
       "    <tr>\n",
       "      <th>ST-20530</th>\n",
       "      <td>Male</td>\n",
       "      <td>Married</td>\n",
       "      <td>1000-1999</td>\n",
       "      <td>40-59</td>\n",
       "      <td>Officer</td>\n",
       "      <td>East</td>\n",
       "      <td>1</td>\n",
       "    </tr>\n",
       "    <tr>\n",
       "      <th>JL-15130</th>\n",
       "      <td>Male</td>\n",
       "      <td>Not Married</td>\n",
       "      <td>0-999</td>\n",
       "      <td>10-24</td>\n",
       "      <td>Staff</td>\n",
       "      <td>South</td>\n",
       "      <td>3</td>\n",
       "    </tr>\n",
       "  </tbody>\n",
       "</table>\n",
       "</div>"
      ],
      "text/plain": [
       "             Gender Marital Status     Salary    Age  \\\n",
       "Customer ID                                            \n",
       "FC-14335       Male    Not Married  2000-2999  25-39   \n",
       "JP-15520     Female        Married  3000-3999  40-59   \n",
       "SR-20425     Female        Married      0-999  10-24   \n",
       "ST-20530       Male        Married  1000-1999  40-59   \n",
       "JL-15130       Male    Not Married      0-999  10-24   \n",
       "\n",
       "                           Occupation Region  Cluster  \n",
       "Customer ID                                            \n",
       "FC-14335     Senior Customer Relation   West        0  \n",
       "JP-15520                          BOD   West        1  \n",
       "SR-20425                Self Employed   West        2  \n",
       "ST-20530                      Officer   East        1  \n",
       "JL-15130                        Staff  South        3  "
      ]
     },
     "execution_count": 76,
     "metadata": {},
     "output_type": "execute_result"
    }
   ],
   "source": [
    "df_cust.head()"
   ]
  },
  {
   "cell_type": "code",
   "execution_count": 77,
   "id": "YHNqq1NS8hk4",
   "metadata": {
    "id": "YHNqq1NS8hk4"
   },
   "outputs": [],
   "source": [
    "df_cust['Cluster'] = df_cust['Cluster'].map({0:'Perempuan berusia 10-24 dan sudah menikah, pekerjaan customer service dengan range salary 0-999 di region west',\n",
    "                                                       1 :'Perempuan berusia 25-39 dan Belum/Tidak menikah, pekerjaan Officer dengan range salary 1000-1999 di region west',\n",
    "                                                       2 :'laki-laki berusia 40-59 dan sudah menikah, pekerjaan Officer dengan range salary 1000-1999 di region East',\n",
    "                                                       3 :'Laki-laki berusia 25-39 dan Belum/Tidak menikah, pekerjaan staff dengan range salary 0-999 di region East'})"
   ]
  },
  {
   "cell_type": "code",
   "execution_count": 78,
   "id": "kBemYX6m7mT2",
   "metadata": {
    "id": "kBemYX6m7mT2"
   },
   "outputs": [
    {
     "data": {
      "text/html": [
       "<div>\n",
       "<style scoped>\n",
       "    .dataframe tbody tr th:only-of-type {\n",
       "        vertical-align: middle;\n",
       "    }\n",
       "\n",
       "    .dataframe tbody tr th {\n",
       "        vertical-align: top;\n",
       "    }\n",
       "\n",
       "    .dataframe thead th {\n",
       "        text-align: right;\n",
       "    }\n",
       "</style>\n",
       "<table border=\"1\" class=\"dataframe\">\n",
       "  <thead>\n",
       "    <tr style=\"text-align: right;\">\n",
       "      <th></th>\n",
       "      <th>Gender</th>\n",
       "      <th>Marital Status</th>\n",
       "      <th>Salary</th>\n",
       "      <th>Age</th>\n",
       "      <th>Occupation</th>\n",
       "      <th>Region</th>\n",
       "      <th>Cluster</th>\n",
       "    </tr>\n",
       "    <tr>\n",
       "      <th>Customer ID</th>\n",
       "      <th></th>\n",
       "      <th></th>\n",
       "      <th></th>\n",
       "      <th></th>\n",
       "      <th></th>\n",
       "      <th></th>\n",
       "      <th></th>\n",
       "    </tr>\n",
       "  </thead>\n",
       "  <tbody>\n",
       "    <tr>\n",
       "      <th>FC-14335</th>\n",
       "      <td>Male</td>\n",
       "      <td>Not Married</td>\n",
       "      <td>2000-2999</td>\n",
       "      <td>25-39</td>\n",
       "      <td>Senior Customer Relation</td>\n",
       "      <td>West</td>\n",
       "      <td>Perempuan berusia 10-24 dan sudah menikah, pek...</td>\n",
       "    </tr>\n",
       "    <tr>\n",
       "      <th>JP-15520</th>\n",
       "      <td>Female</td>\n",
       "      <td>Married</td>\n",
       "      <td>3000-3999</td>\n",
       "      <td>40-59</td>\n",
       "      <td>BOD</td>\n",
       "      <td>West</td>\n",
       "      <td>Perempuan berusia 25-39 dan Belum/Tidak menika...</td>\n",
       "    </tr>\n",
       "    <tr>\n",
       "      <th>SR-20425</th>\n",
       "      <td>Female</td>\n",
       "      <td>Married</td>\n",
       "      <td>0-999</td>\n",
       "      <td>10-24</td>\n",
       "      <td>Self Employed</td>\n",
       "      <td>West</td>\n",
       "      <td>laki-laki berusia 40-59 dan sudah menikah, pek...</td>\n",
       "    </tr>\n",
       "    <tr>\n",
       "      <th>ST-20530</th>\n",
       "      <td>Male</td>\n",
       "      <td>Married</td>\n",
       "      <td>1000-1999</td>\n",
       "      <td>40-59</td>\n",
       "      <td>Officer</td>\n",
       "      <td>East</td>\n",
       "      <td>Perempuan berusia 25-39 dan Belum/Tidak menika...</td>\n",
       "    </tr>\n",
       "    <tr>\n",
       "      <th>JL-15130</th>\n",
       "      <td>Male</td>\n",
       "      <td>Not Married</td>\n",
       "      <td>0-999</td>\n",
       "      <td>10-24</td>\n",
       "      <td>Staff</td>\n",
       "      <td>South</td>\n",
       "      <td>Laki-laki berusia 25-39 dan Belum/Tidak menika...</td>\n",
       "    </tr>\n",
       "  </tbody>\n",
       "</table>\n",
       "</div>"
      ],
      "text/plain": [
       "             Gender Marital Status     Salary    Age  \\\n",
       "Customer ID                                            \n",
       "FC-14335       Male    Not Married  2000-2999  25-39   \n",
       "JP-15520     Female        Married  3000-3999  40-59   \n",
       "SR-20425     Female        Married      0-999  10-24   \n",
       "ST-20530       Male        Married  1000-1999  40-59   \n",
       "JL-15130       Male    Not Married      0-999  10-24   \n",
       "\n",
       "                           Occupation Region  \\\n",
       "Customer ID                                    \n",
       "FC-14335     Senior Customer Relation   West   \n",
       "JP-15520                          BOD   West   \n",
       "SR-20425                Self Employed   West   \n",
       "ST-20530                      Officer   East   \n",
       "JL-15130                        Staff  South   \n",
       "\n",
       "                                                       Cluster  \n",
       "Customer ID                                                     \n",
       "FC-14335     Perempuan berusia 10-24 dan sudah menikah, pek...  \n",
       "JP-15520     Perempuan berusia 25-39 dan Belum/Tidak menika...  \n",
       "SR-20425     laki-laki berusia 40-59 dan sudah menikah, pek...  \n",
       "ST-20530     Perempuan berusia 25-39 dan Belum/Tidak menika...  \n",
       "JL-15130     Laki-laki berusia 25-39 dan Belum/Tidak menika...  "
      ]
     },
     "execution_count": 78,
     "metadata": {},
     "output_type": "execute_result"
    }
   ],
   "source": [
    "df_cust.head()"
   ]
  },
  {
   "cell_type": "markdown",
   "id": "e6a9f0f4",
   "metadata": {
    "id": "e6a9f0f4"
   },
   "source": [
    "### RFM Analysis"
   ]
  },
  {
   "cell_type": "code",
   "execution_count": 79,
   "id": "087ac6c4",
   "metadata": {
    "id": "087ac6c4"
   },
   "outputs": [
    {
     "data": {
      "text/html": [
       "<div>\n",
       "<style scoped>\n",
       "    .dataframe tbody tr th:only-of-type {\n",
       "        vertical-align: middle;\n",
       "    }\n",
       "\n",
       "    .dataframe tbody tr th {\n",
       "        vertical-align: top;\n",
       "    }\n",
       "\n",
       "    .dataframe thead th {\n",
       "        text-align: right;\n",
       "    }\n",
       "</style>\n",
       "<table border=\"1\" class=\"dataframe\">\n",
       "  <thead>\n",
       "    <tr style=\"text-align: right;\">\n",
       "      <th></th>\n",
       "      <th>Row ID</th>\n",
       "      <th>Order ID</th>\n",
       "      <th>Order Date</th>\n",
       "      <th>Ship Date</th>\n",
       "      <th>Ship Mode</th>\n",
       "      <th>Customer ID</th>\n",
       "      <th>Customer Name</th>\n",
       "      <th>Segment</th>\n",
       "      <th>Country</th>\n",
       "      <th>City</th>\n",
       "      <th>State</th>\n",
       "      <th>Postal Code</th>\n",
       "      <th>Region</th>\n",
       "      <th>Product ID</th>\n",
       "      <th>Category</th>\n",
       "      <th>Sub-Category</th>\n",
       "      <th>Product Name</th>\n",
       "      <th>Sales</th>\n",
       "      <th>Quantity</th>\n",
       "      <th>Discount</th>\n",
       "      <th>Profit</th>\n",
       "    </tr>\n",
       "  </thead>\n",
       "  <tbody>\n",
       "    <tr>\n",
       "      <th>0</th>\n",
       "      <td>1</td>\n",
       "      <td>CA-2016-152156</td>\n",
       "      <td>2016-11-08</td>\n",
       "      <td>2016-11-11</td>\n",
       "      <td>Second Class</td>\n",
       "      <td>CG-12520</td>\n",
       "      <td>Claire Gute</td>\n",
       "      <td>Consumer</td>\n",
       "      <td>United States</td>\n",
       "      <td>Henderson</td>\n",
       "      <td>Kentucky</td>\n",
       "      <td>42420</td>\n",
       "      <td>South</td>\n",
       "      <td>FUR-BO-10001798</td>\n",
       "      <td>Furniture</td>\n",
       "      <td>Bookcases</td>\n",
       "      <td>Bush Somerset Collection Bookcase</td>\n",
       "      <td>261.96</td>\n",
       "      <td>2</td>\n",
       "      <td>0.0</td>\n",
       "      <td>41.9136</td>\n",
       "    </tr>\n",
       "    <tr>\n",
       "      <th>1</th>\n",
       "      <td>2</td>\n",
       "      <td>CA-2016-152156</td>\n",
       "      <td>2016-11-08</td>\n",
       "      <td>2016-11-11</td>\n",
       "      <td>Second Class</td>\n",
       "      <td>CG-12520</td>\n",
       "      <td>Claire Gute</td>\n",
       "      <td>Consumer</td>\n",
       "      <td>United States</td>\n",
       "      <td>Henderson</td>\n",
       "      <td>Kentucky</td>\n",
       "      <td>42420</td>\n",
       "      <td>South</td>\n",
       "      <td>FUR-CH-10000454</td>\n",
       "      <td>Furniture</td>\n",
       "      <td>Chairs</td>\n",
       "      <td>Hon Deluxe Fabric Upholstered Stacking Chairs,...</td>\n",
       "      <td>731.94</td>\n",
       "      <td>3</td>\n",
       "      <td>0.0</td>\n",
       "      <td>219.5820</td>\n",
       "    </tr>\n",
       "    <tr>\n",
       "      <th>2</th>\n",
       "      <td>3</td>\n",
       "      <td>CA-2016-138688</td>\n",
       "      <td>2016-06-12</td>\n",
       "      <td>2016-06-16</td>\n",
       "      <td>Second Class</td>\n",
       "      <td>DV-13045</td>\n",
       "      <td>Darrin Van Huff</td>\n",
       "      <td>Corporate</td>\n",
       "      <td>United States</td>\n",
       "      <td>Los Angeles</td>\n",
       "      <td>California</td>\n",
       "      <td>90036</td>\n",
       "      <td>West</td>\n",
       "      <td>OFF-LA-10000240</td>\n",
       "      <td>Office Supplies</td>\n",
       "      <td>Labels</td>\n",
       "      <td>Self-Adhesive Address Labels for Typewriters b...</td>\n",
       "      <td>14.62</td>\n",
       "      <td>2</td>\n",
       "      <td>0.0</td>\n",
       "      <td>6.8714</td>\n",
       "    </tr>\n",
       "  </tbody>\n",
       "</table>\n",
       "</div>"
      ],
      "text/plain": [
       "   Row ID        Order ID Order Date  Ship Date     Ship Mode Customer ID  \\\n",
       "0       1  CA-2016-152156 2016-11-08 2016-11-11  Second Class    CG-12520   \n",
       "1       2  CA-2016-152156 2016-11-08 2016-11-11  Second Class    CG-12520   \n",
       "2       3  CA-2016-138688 2016-06-12 2016-06-16  Second Class    DV-13045   \n",
       "\n",
       "     Customer Name    Segment        Country         City       State  \\\n",
       "0      Claire Gute   Consumer  United States    Henderson    Kentucky   \n",
       "1      Claire Gute   Consumer  United States    Henderson    Kentucky   \n",
       "2  Darrin Van Huff  Corporate  United States  Los Angeles  California   \n",
       "\n",
       "   Postal Code Region       Product ID         Category Sub-Category  \\\n",
       "0        42420  South  FUR-BO-10001798        Furniture    Bookcases   \n",
       "1        42420  South  FUR-CH-10000454        Furniture       Chairs   \n",
       "2        90036   West  OFF-LA-10000240  Office Supplies       Labels   \n",
       "\n",
       "                                        Product Name   Sales  Quantity  \\\n",
       "0                  Bush Somerset Collection Bookcase  261.96         2   \n",
       "1  Hon Deluxe Fabric Upholstered Stacking Chairs,...  731.94         3   \n",
       "2  Self-Adhesive Address Labels for Typewriters b...   14.62         2   \n",
       "\n",
       "   Discount    Profit  \n",
       "0       0.0   41.9136  \n",
       "1       0.0  219.5820  \n",
       "2       0.0    6.8714  "
      ]
     },
     "execution_count": 79,
     "metadata": {},
     "output_type": "execute_result"
    }
   ],
   "source": [
    "df_order.head(3)"
   ]
  },
  {
   "cell_type": "code",
   "execution_count": 80,
   "id": "2b203ae5",
   "metadata": {
    "id": "2b203ae5"
   },
   "outputs": [],
   "source": [
    "rfm_prep = df_order[['Customer ID', 'Order Date', 'Sales']]"
   ]
  },
  {
   "cell_type": "code",
   "execution_count": 81,
   "id": "fcbfa67e",
   "metadata": {
    "id": "fcbfa67e"
   },
   "outputs": [
    {
     "data": {
      "text/html": [
       "<div>\n",
       "<style scoped>\n",
       "    .dataframe tbody tr th:only-of-type {\n",
       "        vertical-align: middle;\n",
       "    }\n",
       "\n",
       "    .dataframe tbody tr th {\n",
       "        vertical-align: top;\n",
       "    }\n",
       "\n",
       "    .dataframe thead th {\n",
       "        text-align: right;\n",
       "    }\n",
       "</style>\n",
       "<table border=\"1\" class=\"dataframe\">\n",
       "  <thead>\n",
       "    <tr style=\"text-align: right;\">\n",
       "      <th></th>\n",
       "      <th>Customer ID</th>\n",
       "      <th>Order Date</th>\n",
       "      <th>Sales</th>\n",
       "    </tr>\n",
       "  </thead>\n",
       "  <tbody>\n",
       "    <tr>\n",
       "      <th>0</th>\n",
       "      <td>CG-12520</td>\n",
       "      <td>2016-11-08</td>\n",
       "      <td>261.96</td>\n",
       "    </tr>\n",
       "    <tr>\n",
       "      <th>1</th>\n",
       "      <td>CG-12520</td>\n",
       "      <td>2016-11-08</td>\n",
       "      <td>731.94</td>\n",
       "    </tr>\n",
       "    <tr>\n",
       "      <th>2</th>\n",
       "      <td>DV-13045</td>\n",
       "      <td>2016-06-12</td>\n",
       "      <td>14.62</td>\n",
       "    </tr>\n",
       "  </tbody>\n",
       "</table>\n",
       "</div>"
      ],
      "text/plain": [
       "  Customer ID Order Date   Sales\n",
       "0    CG-12520 2016-11-08  261.96\n",
       "1    CG-12520 2016-11-08  731.94\n",
       "2    DV-13045 2016-06-12   14.62"
      ]
     },
     "execution_count": 81,
     "metadata": {},
     "output_type": "execute_result"
    }
   ],
   "source": [
    "rfm_prep.head(3)"
   ]
  },
  {
   "cell_type": "code",
   "execution_count": 82,
   "id": "e1bdca41",
   "metadata": {
    "id": "e1bdca41"
   },
   "outputs": [
    {
     "name": "stdout",
     "output_type": "stream",
     "text": [
      "<class 'pandas.core.frame.DataFrame'>\n",
      "RangeIndex: 9994 entries, 0 to 9993\n",
      "Data columns (total 3 columns):\n",
      " #   Column       Non-Null Count  Dtype         \n",
      "---  ------       --------------  -----         \n",
      " 0   Customer ID  9994 non-null   object        \n",
      " 1   Order Date   9994 non-null   datetime64[ns]\n",
      " 2   Sales        9994 non-null   float64       \n",
      "dtypes: datetime64[ns](1), float64(1), object(1)\n",
      "memory usage: 234.4+ KB\n"
     ]
    }
   ],
   "source": [
    "rfm_prep.info()"
   ]
  },
  {
   "cell_type": "markdown",
   "id": "1879e41b",
   "metadata": {
    "id": "1879e41b"
   },
   "source": [
    "#### Recency"
   ]
  },
  {
   "cell_type": "code",
   "execution_count": 83,
   "id": "69818184",
   "metadata": {
    "id": "69818184"
   },
   "outputs": [],
   "source": [
    "last_transaction = rfm_prep['Order Date'].max()\n",
    "recency = rfm_prep.groupby('Customer ID')['Order Date'].max().reset_index(name='Last Order Date')\n",
    "recency['recency'] = last_transaction - recency['Last Order Date']\n",
    "recency['recency'] = recency['recency'].astype('str')"
   ]
  },
  {
   "cell_type": "code",
   "execution_count": 84,
   "id": "f69f36f1",
   "metadata": {
    "id": "f69f36f1"
   },
   "outputs": [
    {
     "data": {
      "text/html": [
       "<div>\n",
       "<style scoped>\n",
       "    .dataframe tbody tr th:only-of-type {\n",
       "        vertical-align: middle;\n",
       "    }\n",
       "\n",
       "    .dataframe tbody tr th {\n",
       "        vertical-align: top;\n",
       "    }\n",
       "\n",
       "    .dataframe thead th {\n",
       "        text-align: right;\n",
       "    }\n",
       "</style>\n",
       "<table border=\"1\" class=\"dataframe\">\n",
       "  <thead>\n",
       "    <tr style=\"text-align: right;\">\n",
       "      <th></th>\n",
       "      <th>Customer ID</th>\n",
       "      <th>Last Order Date</th>\n",
       "      <th>recency</th>\n",
       "    </tr>\n",
       "  </thead>\n",
       "  <tbody>\n",
       "    <tr>\n",
       "      <th>0</th>\n",
       "      <td>AA-10315</td>\n",
       "      <td>2017-06-29</td>\n",
       "      <td>184 days</td>\n",
       "    </tr>\n",
       "    <tr>\n",
       "      <th>1</th>\n",
       "      <td>AA-10375</td>\n",
       "      <td>2017-12-11</td>\n",
       "      <td>19 days</td>\n",
       "    </tr>\n",
       "    <tr>\n",
       "      <th>2</th>\n",
       "      <td>AA-10480</td>\n",
       "      <td>2017-04-15</td>\n",
       "      <td>259 days</td>\n",
       "    </tr>\n",
       "  </tbody>\n",
       "</table>\n",
       "</div>"
      ],
      "text/plain": [
       "  Customer ID Last Order Date   recency\n",
       "0    AA-10315      2017-06-29  184 days\n",
       "1    AA-10375      2017-12-11   19 days\n",
       "2    AA-10480      2017-04-15  259 days"
      ]
     },
     "execution_count": 84,
     "metadata": {},
     "output_type": "execute_result"
    }
   ],
   "source": [
    "recency.head(3)"
   ]
  },
  {
   "cell_type": "code",
   "execution_count": 85,
   "id": "2e393ca6",
   "metadata": {
    "id": "2e393ca6"
   },
   "outputs": [],
   "source": [
    "recency['recency'] = recency['recency'].str.replace(' days', '')\n",
    "recency['recency'] = recency['recency'].astype('float64')"
   ]
  },
  {
   "cell_type": "code",
   "execution_count": 86,
   "id": "b4d63587",
   "metadata": {
    "id": "b4d63587"
   },
   "outputs": [
    {
     "data": {
      "text/html": [
       "<div>\n",
       "<style scoped>\n",
       "    .dataframe tbody tr th:only-of-type {\n",
       "        vertical-align: middle;\n",
       "    }\n",
       "\n",
       "    .dataframe tbody tr th {\n",
       "        vertical-align: top;\n",
       "    }\n",
       "\n",
       "    .dataframe thead th {\n",
       "        text-align: right;\n",
       "    }\n",
       "</style>\n",
       "<table border=\"1\" class=\"dataframe\">\n",
       "  <thead>\n",
       "    <tr style=\"text-align: right;\">\n",
       "      <th></th>\n",
       "      <th>Customer ID</th>\n",
       "      <th>Last Order Date</th>\n",
       "      <th>recency</th>\n",
       "    </tr>\n",
       "  </thead>\n",
       "  <tbody>\n",
       "    <tr>\n",
       "      <th>0</th>\n",
       "      <td>AA-10315</td>\n",
       "      <td>2017-06-29</td>\n",
       "      <td>184.0</td>\n",
       "    </tr>\n",
       "    <tr>\n",
       "      <th>1</th>\n",
       "      <td>AA-10375</td>\n",
       "      <td>2017-12-11</td>\n",
       "      <td>19.0</td>\n",
       "    </tr>\n",
       "    <tr>\n",
       "      <th>2</th>\n",
       "      <td>AA-10480</td>\n",
       "      <td>2017-04-15</td>\n",
       "      <td>259.0</td>\n",
       "    </tr>\n",
       "  </tbody>\n",
       "</table>\n",
       "</div>"
      ],
      "text/plain": [
       "  Customer ID Last Order Date  recency\n",
       "0    AA-10315      2017-06-29    184.0\n",
       "1    AA-10375      2017-12-11     19.0\n",
       "2    AA-10480      2017-04-15    259.0"
      ]
     },
     "execution_count": 86,
     "metadata": {},
     "output_type": "execute_result"
    }
   ],
   "source": [
    "recency.head(3)"
   ]
  },
  {
   "cell_type": "code",
   "execution_count": 87,
   "id": "00a7791a",
   "metadata": {
    "id": "00a7791a"
   },
   "outputs": [
    {
     "data": {
      "text/plain": [
       "<AxesSubplot:xlabel='recency', ylabel='Density'>"
      ]
     },
     "execution_count": 87,
     "metadata": {},
     "output_type": "execute_result"
    },
    {
     "data": {
      "image/png": "[encoded data removed]",
      "text/plain": [
       "<Figure size 432x288 with 1 Axes>"
      ]
     },
     "metadata": {
      "needs_background": "light"
     },
     "output_type": "display_data"
    }
   ],
   "source": [
    "sns.distplot(recency['recency'])"
   ]
  },
  {
   "cell_type": "markdown",
   "id": "739921a0",
   "metadata": {
    "id": "739921a0"
   },
   "source": [
    "#### Frequency"
   ]
  },
  {
   "cell_type": "code",
   "execution_count": 88,
   "id": "9a6cc73e",
   "metadata": {
    "id": "9a6cc73e"
   },
   "outputs": [],
   "source": [
    "frequency = rfm_prep.groupby('Customer ID')['Sales'].count().reset_index(name='frequency')"
   ]
  },
  {
   "cell_type": "code",
   "execution_count": 89,
   "id": "14e2a45f",
   "metadata": {
    "id": "14e2a45f",
    "scrolled": true
   },
   "outputs": [
    {
     "data": {
      "text/html": [
       "<div>\n",
       "<style scoped>\n",
       "    .dataframe tbody tr th:only-of-type {\n",
       "        vertical-align: middle;\n",
       "    }\n",
       "\n",
       "    .dataframe tbody tr th {\n",
       "        vertical-align: top;\n",
       "    }\n",
       "\n",
       "    .dataframe thead th {\n",
       "        text-align: right;\n",
       "    }\n",
       "</style>\n",
       "<table border=\"1\" class=\"dataframe\">\n",
       "  <thead>\n",
       "    <tr style=\"text-align: right;\">\n",
       "      <th></th>\n",
       "      <th>Customer ID</th>\n",
       "      <th>frequency</th>\n",
       "    </tr>\n",
       "  </thead>\n",
       "  <tbody>\n",
       "    <tr>\n",
       "      <th>0</th>\n",
       "      <td>AA-10315</td>\n",
       "      <td>11</td>\n",
       "    </tr>\n",
       "    <tr>\n",
       "      <th>1</th>\n",
       "      <td>AA-10375</td>\n",
       "      <td>15</td>\n",
       "    </tr>\n",
       "    <tr>\n",
       "      <th>2</th>\n",
       "      <td>AA-10480</td>\n",
       "      <td>12</td>\n",
       "    </tr>\n",
       "  </tbody>\n",
       "</table>\n",
       "</div>"
      ],
      "text/plain": [
       "  Customer ID  frequency\n",
       "0    AA-10315         11\n",
       "1    AA-10375         15\n",
       "2    AA-10480         12"
      ]
     },
     "execution_count": 89,
     "metadata": {},
     "output_type": "execute_result"
    }
   ],
   "source": [
    "frequency.head(3)"
   ]
  },
  {
   "cell_type": "code",
   "execution_count": 90,
   "id": "a3cdd57a",
   "metadata": {
    "id": "a3cdd57a"
   },
   "outputs": [
    {
     "data": {
      "text/plain": [
       "<AxesSubplot:xlabel='frequency', ylabel='Density'>"
      ]
     },
     "execution_count": 90,
     "metadata": {},
     "output_type": "execute_result"
    },
    {
     "data": {
      "image/png": "[encoded data removed]",
      "text/plain": [
       "<Figure size 432x288 with 1 Axes>"
      ]
     },
     "metadata": {
      "needs_background": "light"
     },
     "output_type": "display_data"
    }
   ],
   "source": [
    "sns.distplot(frequency['frequency'])"
   ]
  },
  {
   "cell_type": "markdown",
   "id": "07958f1a",
   "metadata": {
    "id": "07958f1a"
   },
   "source": [
    "#### Monetary"
   ]
  },
  {
   "cell_type": "code",
   "execution_count": 91,
   "id": "63962552",
   "metadata": {
    "id": "63962552"
   },
   "outputs": [],
   "source": [
    "monetary = rfm_prep.groupby('Customer ID')['Sales'].sum().reset_index(name='monetary')"
   ]
  },
  {
   "cell_type": "code",
   "execution_count": 92,
   "id": "8bbe7dfb",
   "metadata": {
    "id": "8bbe7dfb",
    "scrolled": true
   },
   "outputs": [
    {
     "data": {
      "text/html": [
       "<div>\n",
       "<style scoped>\n",
       "    .dataframe tbody tr th:only-of-type {\n",
       "        vertical-align: middle;\n",
       "    }\n",
       "\n",
       "    .dataframe tbody tr th {\n",
       "        vertical-align: top;\n",
       "    }\n",
       "\n",
       "    .dataframe thead th {\n",
       "        text-align: right;\n",
       "    }\n",
       "</style>\n",
       "<table border=\"1\" class=\"dataframe\">\n",
       "  <thead>\n",
       "    <tr style=\"text-align: right;\">\n",
       "      <th></th>\n",
       "      <th>Customer ID</th>\n",
       "      <th>monetary</th>\n",
       "    </tr>\n",
       "  </thead>\n",
       "  <tbody>\n",
       "    <tr>\n",
       "      <th>0</th>\n",
       "      <td>AA-10315</td>\n",
       "      <td>5563.560</td>\n",
       "    </tr>\n",
       "    <tr>\n",
       "      <th>1</th>\n",
       "      <td>AA-10375</td>\n",
       "      <td>1056.390</td>\n",
       "    </tr>\n",
       "    <tr>\n",
       "      <th>2</th>\n",
       "      <td>AA-10480</td>\n",
       "      <td>1790.512</td>\n",
       "    </tr>\n",
       "  </tbody>\n",
       "</table>\n",
       "</div>"
      ],
      "text/plain": [
       "  Customer ID  monetary\n",
       "0    AA-10315  5563.560\n",
       "1    AA-10375  1056.390\n",
       "2    AA-10480  1790.512"
      ]
     },
     "execution_count": 92,
     "metadata": {},
     "output_type": "execute_result"
    }
   ],
   "source": [
    "monetary.head(3)"
   ]
  },
  {
   "cell_type": "code",
   "execution_count": 93,
   "id": "a6730096",
   "metadata": {
    "id": "a6730096"
   },
   "outputs": [
    {
     "data": {
      "text/plain": [
       "<AxesSubplot:xlabel='monetary', ylabel='Density'>"
      ]
     },
     "execution_count": 93,
     "metadata": {},
     "output_type": "execute_result"
    },
    {
     "data": {
      "image/png": "[encoded data removed]",
      "text/plain": [
       "<Figure size 432x288 with 1 Axes>"
      ]
     },
     "metadata": {
      "needs_background": "light"
     },
     "output_type": "display_data"
    }
   ],
   "source": [
    "sns.distplot(monetary['monetary'])"
   ]
  },
  {
   "cell_type": "markdown",
   "id": "80b11cc6",
   "metadata": {
    "id": "80b11cc6"
   },
   "source": [
    "#### Gabungkan recency, frequency, dan monetary"
   ]
  },
  {
   "cell_type": "code",
   "execution_count": 94,
   "id": "c993b237",
   "metadata": {
    "id": "c993b237"
   },
   "outputs": [],
   "source": [
    "recency.drop(columns=['Last Order Date'], inplace=True)"
   ]
  },
  {
   "cell_type": "code",
   "execution_count": 95,
   "id": "8cc16782",
   "metadata": {
    "id": "8cc16782"
   },
   "outputs": [],
   "source": [
    "df_1 = recency.merge(frequency, how='left', on='Customer ID')\n",
    "rfm_df = df_1.merge(monetary, how='left', on='Customer ID')"
   ]
  },
  {
   "cell_type": "code",
   "execution_count": 96,
   "id": "1a96f6cb",
   "metadata": {
    "id": "1a96f6cb"
   },
   "outputs": [
    {
     "data": {
      "text/html": [
       "<div>\n",
       "<style scoped>\n",
       "    .dataframe tbody tr th:only-of-type {\n",
       "        vertical-align: middle;\n",
       "    }\n",
       "\n",
       "    .dataframe tbody tr th {\n",
       "        vertical-align: top;\n",
       "    }\n",
       "\n",
       "    .dataframe thead th {\n",
       "        text-align: right;\n",
       "    }\n",
       "</style>\n",
       "<table border=\"1\" class=\"dataframe\">\n",
       "  <thead>\n",
       "    <tr style=\"text-align: right;\">\n",
       "      <th></th>\n",
       "      <th>Customer ID</th>\n",
       "      <th>recency</th>\n",
       "      <th>frequency</th>\n",
       "      <th>monetary</th>\n",
       "    </tr>\n",
       "  </thead>\n",
       "  <tbody>\n",
       "    <tr>\n",
       "      <th>0</th>\n",
       "      <td>AA-10315</td>\n",
       "      <td>184.0</td>\n",
       "      <td>11</td>\n",
       "      <td>5563.560</td>\n",
       "    </tr>\n",
       "    <tr>\n",
       "      <th>1</th>\n",
       "      <td>AA-10375</td>\n",
       "      <td>19.0</td>\n",
       "      <td>15</td>\n",
       "      <td>1056.390</td>\n",
       "    </tr>\n",
       "    <tr>\n",
       "      <th>2</th>\n",
       "      <td>AA-10480</td>\n",
       "      <td>259.0</td>\n",
       "      <td>12</td>\n",
       "      <td>1790.512</td>\n",
       "    </tr>\n",
       "  </tbody>\n",
       "</table>\n",
       "</div>"
      ],
      "text/plain": [
       "  Customer ID  recency  frequency  monetary\n",
       "0    AA-10315    184.0         11  5563.560\n",
       "1    AA-10375     19.0         15  1056.390\n",
       "2    AA-10480    259.0         12  1790.512"
      ]
     },
     "execution_count": 96,
     "metadata": {},
     "output_type": "execute_result"
    }
   ],
   "source": [
    "rfm_df.head(3)"
   ]
  },
  {
   "cell_type": "markdown",
   "id": "8db4c187",
   "metadata": {
    "id": "8db4c187"
   },
   "source": [
    "### Modeling"
   ]
  },
  {
   "cell_type": "code",
   "execution_count": 97,
   "id": "0b046648",
   "metadata": {
    "id": "0b046648"
   },
   "outputs": [],
   "source": [
    "from sklearn.cluster import KMeans\n",
    "import math"
   ]
  },
  {
   "cell_type": "markdown",
   "id": "012361ec",
   "metadata": {
    "id": "012361ec"
   },
   "source": [
    "**Menentukan jumlah cluster menggunakan elbow method**"
   ]
  },
  {
   "cell_type": "markdown",
   "id": "9f9303b5",
   "metadata": {
    "id": "9f9303b5"
   },
   "source": [
    "Recency"
   ]
  },
  {
   "cell_type": "code",
   "execution_count": 98,
   "id": "b6e472ee",
   "metadata": {
    "id": "b6e472ee"
   },
   "outputs": [
    {
     "data": {
      "image/png": "[encoded data removed]",
      "text/plain": [
       "<Figure size 432x288 with 1 Axes>"
      ]
     },
     "metadata": {
      "needs_background": "light"
     },
     "output_type": "display_data"
    }
   ],
   "source": [
    "sse = {}\n",
    "for i in range(1, 10):\n",
    "    model = KMeans(n_clusters=i, max_iter=1000).fit(recency[['recency']]) #training\n",
    "    sse[i] = model.inertia_\n",
    "\n",
    "plt.figure()\n",
    "plt.plot(list(sse.keys()), list(sse.values()))\n",
    "plt.xlabel('N Clusters')\n",
    "plt.show()"
   ]
  },
  {
   "cell_type": "markdown",
   "id": "b71eb9b4",
   "metadata": {
    "id": "b71eb9b4"
   },
   "source": [
    "Frequency"
   ]
  },
  {
   "cell_type": "code",
   "execution_count": 99,
   "id": "6a1f3fb7",
   "metadata": {
    "id": "6a1f3fb7"
   },
   "outputs": [
    {
     "data": {
      "image/png": "[encoded data removed]",
      "text/plain": [
       "<Figure size 432x288 with 1 Axes>"
      ]
     },
     "metadata": {
      "needs_background": "light"
     },
     "output_type": "display_data"
    }
   ],
   "source": [
    "sse = {}\n",
    "for i in range(1, 10):\n",
    "    model = KMeans(n_clusters=i, max_iter=1000).fit(frequency[['frequency']]) #training\n",
    "    sse[i] = model.inertia_\n",
    "\n",
    "plt.figure()\n",
    "plt.plot(list(sse.keys()), list(sse.values()))\n",
    "plt.xlabel('N Clusters')\n",
    "plt.show()"
   ]
  },
  {
   "cell_type": "markdown",
   "id": "db705062",
   "metadata": {
    "id": "db705062"
   },
   "source": [
    "Monetary"
   ]
  },
  {
   "cell_type": "code",
   "execution_count": 100,
   "id": "38894300",
   "metadata": {
    "id": "38894300"
   },
   "outputs": [
    {
     "data": {
      "image/png": "[encoded data removed]",
      "text/plain": [
       "<Figure size 432x288 with 1 Axes>"
      ]
     },
     "metadata": {
      "needs_background": "light"
     },
     "output_type": "display_data"
    }
   ],
   "source": [
    "sse = {}\n",
    "for i in range(1, 10):\n",
    "    model = KMeans(n_clusters=i, max_iter=1000).fit(monetary[['monetary']]) #training\n",
    "    sse[i] = model.inertia_\n",
    "\n",
    "plt.figure()\n",
    "plt.plot(list(sse.keys()), list(sse.values()))\n",
    "plt.xlabel('N Clusters')\n",
    "plt.show()"
   ]
  },
  {
   "cell_type": "markdown",
   "id": "ec228235",
   "metadata": {
    "id": "ec228235"
   },
   "source": [
    "Baik recency, frequency, maupun monetary ketiganya kita tentukan memiliki jumlah cluster sama dengan 3"
   ]
  },
  {
   "cell_type": "code",
   "execution_count": 101,
   "id": "9a563cbf",
   "metadata": {
    "id": "9a563cbf"
   },
   "outputs": [
    {
     "data": {
      "text/html": [
       "<div>\n",
       "<style scoped>\n",
       "    .dataframe tbody tr th:only-of-type {\n",
       "        vertical-align: middle;\n",
       "    }\n",
       "\n",
       "    .dataframe tbody tr th {\n",
       "        vertical-align: top;\n",
       "    }\n",
       "\n",
       "    .dataframe thead th {\n",
       "        text-align: right;\n",
       "    }\n",
       "</style>\n",
       "<table border=\"1\" class=\"dataframe\">\n",
       "  <thead>\n",
       "    <tr style=\"text-align: right;\">\n",
       "      <th></th>\n",
       "      <th>Customer ID</th>\n",
       "      <th>recency</th>\n",
       "    </tr>\n",
       "  </thead>\n",
       "  <tbody>\n",
       "    <tr>\n",
       "      <th>0</th>\n",
       "      <td>AA-10315</td>\n",
       "      <td>184.0</td>\n",
       "    </tr>\n",
       "    <tr>\n",
       "      <th>1</th>\n",
       "      <td>AA-10375</td>\n",
       "      <td>19.0</td>\n",
       "    </tr>\n",
       "    <tr>\n",
       "      <th>2</th>\n",
       "      <td>AA-10480</td>\n",
       "      <td>259.0</td>\n",
       "    </tr>\n",
       "  </tbody>\n",
       "</table>\n",
       "</div>"
      ],
      "text/plain": [
       "  Customer ID  recency\n",
       "0    AA-10315    184.0\n",
       "1    AA-10375     19.0\n",
       "2    AA-10480    259.0"
      ]
     },
     "execution_count": 101,
     "metadata": {},
     "output_type": "execute_result"
    }
   ],
   "source": [
    "recency.head(3)"
   ]
  },
  {
   "cell_type": "code",
   "execution_count": 102,
   "id": "6596b477",
   "metadata": {
    "id": "6596b477"
   },
   "outputs": [],
   "source": [
    "model_r = KMeans(n_clusters=3, max_iter=1000).fit(recency[['recency']])\n",
    "recency['recency_c'] = model_r.predict(recency[['recency']])"
   ]
  },
  {
   "cell_type": "code",
   "execution_count": 103,
   "id": "17b94fa0",
   "metadata": {
    "id": "17b94fa0",
    "scrolled": true
   },
   "outputs": [
    {
     "data": {
      "text/plain": [
       "0    626\n",
       "2    132\n",
       "1     35\n",
       "Name: recency_c, dtype: int64"
      ]
     },
     "execution_count": 103,
     "metadata": {},
     "output_type": "execute_result"
    }
   ],
   "source": [
    "recency['recency_c'].value_counts()"
   ]
  },
  {
   "cell_type": "code",
   "execution_count": 104,
   "id": "57f3487f",
   "metadata": {
    "id": "57f3487f"
   },
   "outputs": [],
   "source": [
    "c_1 = recency.groupby('recency_c')['recency'].mean().reset_index()\n",
    "c_1 = c_1.sort_values(by='recency', ascending=False).reset_index(drop=True)\n",
    "c_1['index'] = c_1.index"
   ]
  },
  {
   "cell_type": "code",
   "execution_count": 105,
   "id": "0a0445b9",
   "metadata": {
    "id": "0a0445b9",
    "scrolled": false
   },
   "outputs": [
    {
     "data": {
      "text/html": [
       "<div>\n",
       "<style scoped>\n",
       "    .dataframe tbody tr th:only-of-type {\n",
       "        vertical-align: middle;\n",
       "    }\n",
       "\n",
       "    .dataframe tbody tr th {\n",
       "        vertical-align: top;\n",
       "    }\n",
       "\n",
       "    .dataframe thead th {\n",
       "        text-align: right;\n",
       "    }\n",
       "</style>\n",
       "<table border=\"1\" class=\"dataframe\">\n",
       "  <thead>\n",
       "    <tr style=\"text-align: right;\">\n",
       "      <th></th>\n",
       "      <th>recency_c</th>\n",
       "      <th>recency</th>\n",
       "      <th>index</th>\n",
       "    </tr>\n",
       "  </thead>\n",
       "  <tbody>\n",
       "    <tr>\n",
       "      <th>0</th>\n",
       "      <td>1</td>\n",
       "      <td>771.000000</td>\n",
       "      <td>0</td>\n",
       "    </tr>\n",
       "    <tr>\n",
       "      <th>1</th>\n",
       "      <td>2</td>\n",
       "      <td>359.992424</td>\n",
       "      <td>1</td>\n",
       "    </tr>\n",
       "    <tr>\n",
       "      <th>2</th>\n",
       "      <td>0</td>\n",
       "      <td>66.948882</td>\n",
       "      <td>2</td>\n",
       "    </tr>\n",
       "  </tbody>\n",
       "</table>\n",
       "</div>"
      ],
      "text/plain": [
       "   recency_c     recency  index\n",
       "0          1  771.000000      0\n",
       "1          2  359.992424      1\n",
       "2          0   66.948882      2"
      ]
     },
     "execution_count": 105,
     "metadata": {},
     "output_type": "execute_result"
    }
   ],
   "source": [
    "c_1"
   ]
  },
  {
   "cell_type": "code",
   "execution_count": 106,
   "id": "9c94ede3",
   "metadata": {
    "id": "9c94ede3"
   },
   "outputs": [
    {
     "data": {
      "text/html": [
       "<div>\n",
       "<style scoped>\n",
       "    .dataframe tbody tr th:only-of-type {\n",
       "        vertical-align: middle;\n",
       "    }\n",
       "\n",
       "    .dataframe tbody tr th {\n",
       "        vertical-align: top;\n",
       "    }\n",
       "\n",
       "    .dataframe thead th {\n",
       "        text-align: right;\n",
       "    }\n",
       "</style>\n",
       "<table border=\"1\" class=\"dataframe\">\n",
       "  <thead>\n",
       "    <tr style=\"text-align: right;\">\n",
       "      <th></th>\n",
       "      <th>Customer ID</th>\n",
       "      <th>recency</th>\n",
       "      <th>recency_c</th>\n",
       "    </tr>\n",
       "  </thead>\n",
       "  <tbody>\n",
       "    <tr>\n",
       "      <th>0</th>\n",
       "      <td>AA-10315</td>\n",
       "      <td>184.0</td>\n",
       "      <td>0</td>\n",
       "    </tr>\n",
       "    <tr>\n",
       "      <th>1</th>\n",
       "      <td>AA-10375</td>\n",
       "      <td>19.0</td>\n",
       "      <td>0</td>\n",
       "    </tr>\n",
       "    <tr>\n",
       "      <th>2</th>\n",
       "      <td>AA-10480</td>\n",
       "      <td>259.0</td>\n",
       "      <td>2</td>\n",
       "    </tr>\n",
       "    <tr>\n",
       "      <th>3</th>\n",
       "      <td>AA-10645</td>\n",
       "      <td>55.0</td>\n",
       "      <td>0</td>\n",
       "    </tr>\n",
       "    <tr>\n",
       "      <th>4</th>\n",
       "      <td>AB-10015</td>\n",
       "      <td>415.0</td>\n",
       "      <td>2</td>\n",
       "    </tr>\n",
       "  </tbody>\n",
       "</table>\n",
       "</div>"
      ],
      "text/plain": [
       "  Customer ID  recency  recency_c\n",
       "0    AA-10315    184.0          0\n",
       "1    AA-10375     19.0          0\n",
       "2    AA-10480    259.0          2\n",
       "3    AA-10645     55.0          0\n",
       "4    AB-10015    415.0          2"
      ]
     },
     "execution_count": 106,
     "metadata": {},
     "output_type": "execute_result"
    }
   ],
   "source": [
    "recency.head()"
   ]
  },
  {
   "cell_type": "code",
   "execution_count": 107,
   "id": "baed9533",
   "metadata": {
    "id": "baed9533"
   },
   "outputs": [],
   "source": [
    "def reorder_cluster(var, target_var, df, ascending=True):\n",
    "    \n",
    "    df_new = df.groupby(var)[target_var].mean().reset_index()\n",
    "    df_new = df_new.sort_values(by=target_var, ascending=ascending).reset_index(drop=True)\n",
    "    \n",
    "    df_new['index'] = df_new.index\n",
    "    df_final = pd.merge(df, df_new[[var, 'index']], on=var)\n",
    "    df_final = df_final.drop([var], axis=1)\n",
    "    df_final = df_final.rename(columns={'index': var})\n",
    "    return df_final"
   ]
  },
  {
   "cell_type": "code",
   "execution_count": 108,
   "id": "41b69e1e",
   "metadata": {
    "id": "41b69e1e"
   },
   "outputs": [],
   "source": [
    "#recency\n",
    "model_r = KMeans(n_clusters=3, max_iter=1000)\n",
    "model_r.fit(rfm_df[['recency']])\n",
    "rfm_df['recency_c'] = model_r.predict(rfm_df[['recency']])\n",
    "rfm_df = reorder_cluster('recency_c', 'recency', rfm_df, ascending=False)\n",
    "\n",
    "#frequency\n",
    "model_f = KMeans(n_clusters=3, max_iter=1000)\n",
    "model_f.fit(rfm_df[['frequency']])\n",
    "rfm_df['frequency_c'] = model_f.predict(rfm_df[['frequency']])\n",
    "rfm_df = reorder_cluster('frequency_c', 'frequency', rfm_df, ascending=True)\n",
    "\n",
    "#monetary\n",
    "model_m = KMeans(n_clusters=3, max_iter=1000)\n",
    "model_m.fit(rfm_df[['monetary']])\n",
    "rfm_df['monetary_c'] = model_m.predict(rfm_df[['monetary']])\n",
    "rfm_df = reorder_cluster('monetary_c', 'monetary', rfm_df, ascending=True)"
   ]
  },
  {
   "cell_type": "code",
   "execution_count": 109,
   "id": "9bd33646",
   "metadata": {
    "id": "9bd33646",
    "scrolled": true
   },
   "outputs": [
    {
     "data": {
      "text/html": [
       "<div>\n",
       "<style scoped>\n",
       "    .dataframe tbody tr th:only-of-type {\n",
       "        vertical-align: middle;\n",
       "    }\n",
       "\n",
       "    .dataframe tbody tr th {\n",
       "        vertical-align: top;\n",
       "    }\n",
       "\n",
       "    .dataframe thead th {\n",
       "        text-align: right;\n",
       "    }\n",
       "</style>\n",
       "<table border=\"1\" class=\"dataframe\">\n",
       "  <thead>\n",
       "    <tr style=\"text-align: right;\">\n",
       "      <th></th>\n",
       "      <th>Customer ID</th>\n",
       "      <th>recency</th>\n",
       "      <th>frequency</th>\n",
       "      <th>monetary</th>\n",
       "      <th>recency_c</th>\n",
       "      <th>frequency_c</th>\n",
       "      <th>monetary_c</th>\n",
       "    </tr>\n",
       "  </thead>\n",
       "  <tbody>\n",
       "    <tr>\n",
       "      <th>0</th>\n",
       "      <td>AA-10315</td>\n",
       "      <td>184.0</td>\n",
       "      <td>11</td>\n",
       "      <td>5563.5600</td>\n",
       "      <td>2</td>\n",
       "      <td>1</td>\n",
       "      <td>1</td>\n",
       "    </tr>\n",
       "    <tr>\n",
       "      <th>1</th>\n",
       "      <td>AA-10645</td>\n",
       "      <td>55.0</td>\n",
       "      <td>18</td>\n",
       "      <td>5086.9350</td>\n",
       "      <td>2</td>\n",
       "      <td>1</td>\n",
       "      <td>1</td>\n",
       "    </tr>\n",
       "    <tr>\n",
       "      <th>2</th>\n",
       "      <td>AD-10180</td>\n",
       "      <td>29.0</td>\n",
       "      <td>12</td>\n",
       "      <td>6106.8800</td>\n",
       "      <td>2</td>\n",
       "      <td>1</td>\n",
       "      <td>1</td>\n",
       "    </tr>\n",
       "    <tr>\n",
       "      <th>3</th>\n",
       "      <td>AG-10675</td>\n",
       "      <td>97.0</td>\n",
       "      <td>15</td>\n",
       "      <td>3489.0396</td>\n",
       "      <td>2</td>\n",
       "      <td>1</td>\n",
       "      <td>1</td>\n",
       "    </tr>\n",
       "    <tr>\n",
       "      <th>4</th>\n",
       "      <td>AH-10210</td>\n",
       "      <td>6.0</td>\n",
       "      <td>13</td>\n",
       "      <td>4805.3440</td>\n",
       "      <td>2</td>\n",
       "      <td>1</td>\n",
       "      <td>1</td>\n",
       "    </tr>\n",
       "  </tbody>\n",
       "</table>\n",
       "</div>"
      ],
      "text/plain": [
       "  Customer ID  recency  frequency   monetary  recency_c  frequency_c  \\\n",
       "0    AA-10315    184.0         11  5563.5600          2            1   \n",
       "1    AA-10645     55.0         18  5086.9350          2            1   \n",
       "2    AD-10180     29.0         12  6106.8800          2            1   \n",
       "3    AG-10675     97.0         15  3489.0396          2            1   \n",
       "4    AH-10210      6.0         13  4805.3440          2            1   \n",
       "\n",
       "   monetary_c  \n",
       "0           1  \n",
       "1           1  \n",
       "2           1  \n",
       "3           1  \n",
       "4           1  "
      ]
     },
     "execution_count": 109,
     "metadata": {},
     "output_type": "execute_result"
    }
   ],
   "source": [
    "rfm_df.head()"
   ]
  },
  {
   "cell_type": "code",
   "execution_count": 110,
   "id": "df4b21d0",
   "metadata": {
    "id": "df4b21d0"
   },
   "outputs": [
    {
     "data": {
      "text/html": [
       "<div>\n",
       "<style scoped>\n",
       "    .dataframe tbody tr th:only-of-type {\n",
       "        vertical-align: middle;\n",
       "    }\n",
       "\n",
       "    .dataframe tbody tr th {\n",
       "        vertical-align: top;\n",
       "    }\n",
       "\n",
       "    .dataframe thead th {\n",
       "        text-align: right;\n",
       "    }\n",
       "</style>\n",
       "<table border=\"1\" class=\"dataframe\">\n",
       "  <thead>\n",
       "    <tr style=\"text-align: right;\">\n",
       "      <th></th>\n",
       "      <th>count</th>\n",
       "      <th>mean</th>\n",
       "      <th>std</th>\n",
       "      <th>min</th>\n",
       "      <th>25%</th>\n",
       "      <th>50%</th>\n",
       "      <th>75%</th>\n",
       "      <th>max</th>\n",
       "    </tr>\n",
       "    <tr>\n",
       "      <th>frequency_c</th>\n",
       "      <th></th>\n",
       "      <th></th>\n",
       "      <th></th>\n",
       "      <th></th>\n",
       "      <th></th>\n",
       "      <th></th>\n",
       "      <th></th>\n",
       "      <th></th>\n",
       "    </tr>\n",
       "  </thead>\n",
       "  <tbody>\n",
       "    <tr>\n",
       "      <th>0</th>\n",
       "      <td>331.0</td>\n",
       "      <td>7.066465</td>\n",
       "      <td>2.385904</td>\n",
       "      <td>1.0</td>\n",
       "      <td>5.0</td>\n",
       "      <td>7.0</td>\n",
       "      <td>9.0</td>\n",
       "      <td>10.0</td>\n",
       "    </tr>\n",
       "    <tr>\n",
       "      <th>1</th>\n",
       "      <td>325.0</td>\n",
       "      <td>13.898462</td>\n",
       "      <td>2.147098</td>\n",
       "      <td>11.0</td>\n",
       "      <td>12.0</td>\n",
       "      <td>14.0</td>\n",
       "      <td>15.0</td>\n",
       "      <td>18.0</td>\n",
       "    </tr>\n",
       "    <tr>\n",
       "      <th>2</th>\n",
       "      <td>137.0</td>\n",
       "      <td>22.905109</td>\n",
       "      <td>4.076264</td>\n",
       "      <td>19.0</td>\n",
       "      <td>20.0</td>\n",
       "      <td>22.0</td>\n",
       "      <td>25.0</td>\n",
       "      <td>37.0</td>\n",
       "    </tr>\n",
       "  </tbody>\n",
       "</table>\n",
       "</div>"
      ],
      "text/plain": [
       "             count       mean       std   min   25%   50%   75%   max\n",
       "frequency_c                                                          \n",
       "0            331.0   7.066465  2.385904   1.0   5.0   7.0   9.0  10.0\n",
       "1            325.0  13.898462  2.147098  11.0  12.0  14.0  15.0  18.0\n",
       "2            137.0  22.905109  4.076264  19.0  20.0  22.0  25.0  37.0"
      ]
     },
     "execution_count": 110,
     "metadata": {},
     "output_type": "execute_result"
    }
   ],
   "source": [
    "rfm_df.groupby('frequency_c')['frequency'].describe()"
   ]
  },
  {
   "cell_type": "markdown",
   "id": "ef31de13",
   "metadata": {
    "id": "ef31de13"
   },
   "source": [
    "### Overall Scoring"
   ]
  },
  {
   "cell_type": "code",
   "execution_count": 111,
   "id": "25e54322",
   "metadata": {
    "id": "25e54322"
   },
   "outputs": [],
   "source": [
    "rfm_df['Overall_Scoring'] = rfm_df['recency_c'] + rfm_df['frequency_c'] + rfm_df['monetary_c']"
   ]
  },
  {
   "cell_type": "code",
   "execution_count": 112,
   "id": "54794706",
   "metadata": {
    "id": "54794706"
   },
   "outputs": [
    {
     "data": {
      "text/html": [
       "<div>\n",
       "<style scoped>\n",
       "    .dataframe tbody tr th:only-of-type {\n",
       "        vertical-align: middle;\n",
       "    }\n",
       "\n",
       "    .dataframe tbody tr th {\n",
       "        vertical-align: top;\n",
       "    }\n",
       "\n",
       "    .dataframe thead th {\n",
       "        text-align: right;\n",
       "    }\n",
       "</style>\n",
       "<table border=\"1\" class=\"dataframe\">\n",
       "  <thead>\n",
       "    <tr style=\"text-align: right;\">\n",
       "      <th></th>\n",
       "      <th>Customer ID</th>\n",
       "      <th>recency</th>\n",
       "      <th>frequency</th>\n",
       "      <th>monetary</th>\n",
       "      <th>recency_c</th>\n",
       "      <th>frequency_c</th>\n",
       "      <th>monetary_c</th>\n",
       "      <th>Overall_Scoring</th>\n",
       "    </tr>\n",
       "  </thead>\n",
       "  <tbody>\n",
       "    <tr>\n",
       "      <th>0</th>\n",
       "      <td>AA-10315</td>\n",
       "      <td>184.0</td>\n",
       "      <td>11</td>\n",
       "      <td>5563.560</td>\n",
       "      <td>2</td>\n",
       "      <td>1</td>\n",
       "      <td>1</td>\n",
       "      <td>4</td>\n",
       "    </tr>\n",
       "    <tr>\n",
       "      <th>1</th>\n",
       "      <td>AA-10645</td>\n",
       "      <td>55.0</td>\n",
       "      <td>18</td>\n",
       "      <td>5086.935</td>\n",
       "      <td>2</td>\n",
       "      <td>1</td>\n",
       "      <td>1</td>\n",
       "      <td>4</td>\n",
       "    </tr>\n",
       "  </tbody>\n",
       "</table>\n",
       "</div>"
      ],
      "text/plain": [
       "  Customer ID  recency  frequency  monetary  recency_c  frequency_c  \\\n",
       "0    AA-10315    184.0         11  5563.560          2            1   \n",
       "1    AA-10645     55.0         18  5086.935          2            1   \n",
       "\n",
       "   monetary_c  Overall_Scoring  \n",
       "0           1                4  \n",
       "1           1                4  "
      ]
     },
     "execution_count": 112,
     "metadata": {},
     "output_type": "execute_result"
    }
   ],
   "source": [
    "rfm_df.head(2)"
   ]
  },
  {
   "cell_type": "code",
   "execution_count": 113,
   "id": "9a96dbfe",
   "metadata": {
    "id": "9a96dbfe"
   },
   "outputs": [
    {
     "data": {
      "text/html": [
       "<div>\n",
       "<style scoped>\n",
       "    .dataframe tbody tr th:only-of-type {\n",
       "        vertical-align: middle;\n",
       "    }\n",
       "\n",
       "    .dataframe tbody tr th {\n",
       "        vertical-align: top;\n",
       "    }\n",
       "\n",
       "    .dataframe thead th {\n",
       "        text-align: right;\n",
       "    }\n",
       "</style>\n",
       "<table border=\"1\" class=\"dataframe\">\n",
       "  <thead>\n",
       "    <tr style=\"text-align: right;\">\n",
       "      <th></th>\n",
       "      <th>recency</th>\n",
       "      <th>frequency</th>\n",
       "      <th>monetary</th>\n",
       "    </tr>\n",
       "    <tr>\n",
       "      <th>Overall_Scoring</th>\n",
       "      <th></th>\n",
       "      <th></th>\n",
       "      <th></th>\n",
       "    </tr>\n",
       "  </thead>\n",
       "  <tbody>\n",
       "    <tr>\n",
       "      <th>0</th>\n",
       "      <td>787.200000</td>\n",
       "      <td>5.000000</td>\n",
       "      <td>1032.004360</td>\n",
       "    </tr>\n",
       "    <tr>\n",
       "      <th>1</th>\n",
       "      <td>384.487500</td>\n",
       "      <td>6.687500</td>\n",
       "      <td>1026.865239</td>\n",
       "    </tr>\n",
       "    <tr>\n",
       "      <th>2</th>\n",
       "      <td>127.429224</td>\n",
       "      <td>8.068493</td>\n",
       "      <td>1342.837830</td>\n",
       "    </tr>\n",
       "    <tr>\n",
       "      <th>3</th>\n",
       "      <td>87.105263</td>\n",
       "      <td>12.784211</td>\n",
       "      <td>2370.286423</td>\n",
       "    </tr>\n",
       "    <tr>\n",
       "      <th>4</th>\n",
       "      <td>77.417722</td>\n",
       "      <td>15.500000</td>\n",
       "      <td>4175.410968</td>\n",
       "    </tr>\n",
       "    <tr>\n",
       "      <th>5</th>\n",
       "      <td>78.319588</td>\n",
       "      <td>21.422680</td>\n",
       "      <td>5773.000013</td>\n",
       "    </tr>\n",
       "    <tr>\n",
       "      <th>6</th>\n",
       "      <td>70.375000</td>\n",
       "      <td>25.458333</td>\n",
       "      <td>9379.987208</td>\n",
       "    </tr>\n",
       "  </tbody>\n",
       "</table>\n",
       "</div>"
      ],
      "text/plain": [
       "                    recency  frequency     monetary\n",
       "Overall_Scoring                                    \n",
       "0                787.200000   5.000000  1032.004360\n",
       "1                384.487500   6.687500  1026.865239\n",
       "2                127.429224   8.068493  1342.837830\n",
       "3                 87.105263  12.784211  2370.286423\n",
       "4                 77.417722  15.500000  4175.410968\n",
       "5                 78.319588  21.422680  5773.000013\n",
       "6                 70.375000  25.458333  9379.987208"
      ]
     },
     "execution_count": 113,
     "metadata": {},
     "output_type": "execute_result"
    }
   ],
   "source": [
    "rfm_df.groupby('Overall_Scoring').agg({'recency': 'mean',\n",
    "                                      'frequency': 'mean',\n",
    "                                      'monetary': 'mean'})"
   ]
  },
  {
   "cell_type": "code",
   "execution_count": 114,
   "id": "14cef84c",
   "metadata": {
    "id": "14cef84c"
   },
   "outputs": [],
   "source": [
    "rfm_df['segment_overall_scoring'] = ['A' if x >=5 else 'B' if x>=3 else 'C' for x in rfm_df['Overall_Scoring']]"
   ]
  },
  {
   "cell_type": "code",
   "execution_count": 115,
   "id": "c47d7e3f",
   "metadata": {
    "id": "c47d7e3f"
   },
   "outputs": [
    {
     "data": {
      "text/plain": [
       "B    348\n",
       "C    324\n",
       "A    121\n",
       "Name: segment_overall_scoring, dtype: int64"
      ]
     },
     "execution_count": 115,
     "metadata": {},
     "output_type": "execute_result"
    }
   ],
   "source": [
    "rfm_df['segment_overall_scoring'].value_counts()"
   ]
  },
  {
   "cell_type": "markdown",
   "id": "0e2a0fbf",
   "metadata": {
    "id": "0e2a0fbf"
   },
   "source": [
    "#### scoring manual"
   ]
  },
  {
   "cell_type": "code",
   "execution_count": 116,
   "id": "c9822f74",
   "metadata": {
    "id": "c9822f74"
   },
   "outputs": [],
   "source": [
    "kolom_rfm = ['recency_c', 'frequency_c', 'monetary_c']\n",
    "\n",
    "for kolom in kolom_rfm:\n",
    "    rfm_df[kolom] = rfm_df[kolom].astype('str')"
   ]
  },
  {
   "cell_type": "code",
   "execution_count": 117,
   "id": "647b7e65",
   "metadata": {
    "id": "647b7e65"
   },
   "outputs": [],
   "source": [
    "rfm_df['Scoring'] = rfm_df['recency_c'] + rfm_df['frequency_c'] + rfm_df['monetary_c']"
   ]
  },
  {
   "cell_type": "code",
   "execution_count": 118,
   "id": "a5817da0",
   "metadata": {
    "id": "a5817da0",
    "scrolled": true
   },
   "outputs": [
    {
     "data": {
      "text/html": [
       "<div>\n",
       "<style scoped>\n",
       "    .dataframe tbody tr th:only-of-type {\n",
       "        vertical-align: middle;\n",
       "    }\n",
       "\n",
       "    .dataframe tbody tr th {\n",
       "        vertical-align: top;\n",
       "    }\n",
       "\n",
       "    .dataframe thead th {\n",
       "        text-align: right;\n",
       "    }\n",
       "</style>\n",
       "<table border=\"1\" class=\"dataframe\">\n",
       "  <thead>\n",
       "    <tr style=\"text-align: right;\">\n",
       "      <th></th>\n",
       "      <th>Customer ID</th>\n",
       "      <th>recency</th>\n",
       "      <th>frequency</th>\n",
       "      <th>monetary</th>\n",
       "      <th>recency_c</th>\n",
       "      <th>frequency_c</th>\n",
       "      <th>monetary_c</th>\n",
       "      <th>Overall_Scoring</th>\n",
       "      <th>segment_overall_scoring</th>\n",
       "      <th>Scoring</th>\n",
       "    </tr>\n",
       "  </thead>\n",
       "  <tbody>\n",
       "    <tr>\n",
       "      <th>0</th>\n",
       "      <td>AA-10315</td>\n",
       "      <td>184.0</td>\n",
       "      <td>11</td>\n",
       "      <td>5563.560</td>\n",
       "      <td>2</td>\n",
       "      <td>1</td>\n",
       "      <td>1</td>\n",
       "      <td>4</td>\n",
       "      <td>B</td>\n",
       "      <td>211</td>\n",
       "    </tr>\n",
       "    <tr>\n",
       "      <th>1</th>\n",
       "      <td>AA-10645</td>\n",
       "      <td>55.0</td>\n",
       "      <td>18</td>\n",
       "      <td>5086.935</td>\n",
       "      <td>2</td>\n",
       "      <td>1</td>\n",
       "      <td>1</td>\n",
       "      <td>4</td>\n",
       "      <td>B</td>\n",
       "      <td>211</td>\n",
       "    </tr>\n",
       "    <tr>\n",
       "      <th>2</th>\n",
       "      <td>AD-10180</td>\n",
       "      <td>29.0</td>\n",
       "      <td>12</td>\n",
       "      <td>6106.880</td>\n",
       "      <td>2</td>\n",
       "      <td>1</td>\n",
       "      <td>1</td>\n",
       "      <td>4</td>\n",
       "      <td>B</td>\n",
       "      <td>211</td>\n",
       "    </tr>\n",
       "  </tbody>\n",
       "</table>\n",
       "</div>"
      ],
      "text/plain": [
       "  Customer ID  recency  frequency  monetary recency_c frequency_c monetary_c  \\\n",
       "0    AA-10315    184.0         11  5563.560         2           1          1   \n",
       "1    AA-10645     55.0         18  5086.935         2           1          1   \n",
       "2    AD-10180     29.0         12  6106.880         2           1          1   \n",
       "\n",
       "   Overall_Scoring segment_overall_scoring Scoring  \n",
       "0                4                       B     211  \n",
       "1                4                       B     211  \n",
       "2                4                       B     211  "
      ]
     },
     "execution_count": 118,
     "metadata": {},
     "output_type": "execute_result"
    }
   ],
   "source": [
    "rfm_df.head(3)"
   ]
  },
  {
   "cell_type": "code",
   "execution_count": 119,
   "id": "8b44e3da",
   "metadata": {
    "id": "8b44e3da"
   },
   "outputs": [
    {
     "data": {
      "text/plain": [
       "200    184\n",
       "210    139\n",
       "211    123\n",
       "100     77\n",
       "221     75\n",
       "201     36\n",
       "220     25\n",
       "000     25\n",
       "110     24\n",
       "222     24\n",
       "212     17\n",
       "111     10\n",
       "011      6\n",
       "101      5\n",
       "122      5\n",
       "120      4\n",
       "010      3\n",
       "202      3\n",
       "112      3\n",
       "121      3\n",
       "022      1\n",
       "102      1\n",
       "Name: Scoring, dtype: int64"
      ]
     },
     "execution_count": 119,
     "metadata": {},
     "output_type": "execute_result"
    }
   ],
   "source": [
    "rfm_df['Scoring'].value_counts()"
   ]
  },
  {
   "cell_type": "code",
   "execution_count": 120,
   "id": "b5976fd2",
   "metadata": {
    "id": "b5976fd2"
   },
   "outputs": [],
   "source": [
    "def cluster_rfm(x):\n",
    "    if x['Scoring'] == '222':\n",
    "        cat = 'Best Customer'\n",
    "    elif x['Scoring'] == '102' or x['Scoring'] == '112':\n",
    "        cat = 'Big Amount Sales'\n",
    "    elif x['Scoring'] == '120' or x['Scoring'] == '121':\n",
    "        cat = 'Loyal Customer'\n",
    "    elif x['Scoring'] == '200' or x['Scoring'] == '210' or x['Scoring'] == '201' or x['Scoring'] =='211':\n",
    "        cat = 'Recent Customer'\n",
    "    elif x['Scoring'] == '100' or x['Scoring'] == '101' or x['Scoring'] == '110':\n",
    "        cat = 'Almost Lost'\n",
    "    elif x['Scoring'] == '001' or x['Scoring'] == '011':\n",
    "        cat = 'Lost Customer'\n",
    "    elif x['Scoring'] == '000' or x['Scoring'] == '010':\n",
    "        cat = 'Lost Cheap Customer'\n",
    "    else:\n",
    "        cat = 'Others'\n",
    "    return cat\n",
    "\n",
    "rfm_df['RFM_cluster'] = rfm_df.apply(lambda x: cluster_rfm(x), axis=1)"
   ]
  },
  {
   "cell_type": "code",
   "execution_count": 121,
   "id": "49739589",
   "metadata": {
    "id": "49739589"
   },
   "outputs": [
    {
     "data": {
      "text/html": [
       "<div>\n",
       "<style scoped>\n",
       "    .dataframe tbody tr th:only-of-type {\n",
       "        vertical-align: middle;\n",
       "    }\n",
       "\n",
       "    .dataframe tbody tr th {\n",
       "        vertical-align: top;\n",
       "    }\n",
       "\n",
       "    .dataframe thead th {\n",
       "        text-align: right;\n",
       "    }\n",
       "</style>\n",
       "<table border=\"1\" class=\"dataframe\">\n",
       "  <thead>\n",
       "    <tr style=\"text-align: right;\">\n",
       "      <th></th>\n",
       "      <th>Customer ID</th>\n",
       "      <th>recency</th>\n",
       "      <th>frequency</th>\n",
       "      <th>monetary</th>\n",
       "      <th>recency_c</th>\n",
       "      <th>frequency_c</th>\n",
       "      <th>monetary_c</th>\n",
       "      <th>Overall_Scoring</th>\n",
       "      <th>segment_overall_scoring</th>\n",
       "      <th>Scoring</th>\n",
       "      <th>RFM_cluster</th>\n",
       "    </tr>\n",
       "  </thead>\n",
       "  <tbody>\n",
       "    <tr>\n",
       "      <th>0</th>\n",
       "      <td>AA-10315</td>\n",
       "      <td>184.0</td>\n",
       "      <td>11</td>\n",
       "      <td>5563.5600</td>\n",
       "      <td>2</td>\n",
       "      <td>1</td>\n",
       "      <td>1</td>\n",
       "      <td>4</td>\n",
       "      <td>B</td>\n",
       "      <td>211</td>\n",
       "      <td>Recent Customer</td>\n",
       "    </tr>\n",
       "    <tr>\n",
       "      <th>1</th>\n",
       "      <td>AA-10645</td>\n",
       "      <td>55.0</td>\n",
       "      <td>18</td>\n",
       "      <td>5086.9350</td>\n",
       "      <td>2</td>\n",
       "      <td>1</td>\n",
       "      <td>1</td>\n",
       "      <td>4</td>\n",
       "      <td>B</td>\n",
       "      <td>211</td>\n",
       "      <td>Recent Customer</td>\n",
       "    </tr>\n",
       "    <tr>\n",
       "      <th>2</th>\n",
       "      <td>AD-10180</td>\n",
       "      <td>29.0</td>\n",
       "      <td>12</td>\n",
       "      <td>6106.8800</td>\n",
       "      <td>2</td>\n",
       "      <td>1</td>\n",
       "      <td>1</td>\n",
       "      <td>4</td>\n",
       "      <td>B</td>\n",
       "      <td>211</td>\n",
       "      <td>Recent Customer</td>\n",
       "    </tr>\n",
       "    <tr>\n",
       "      <th>3</th>\n",
       "      <td>AG-10675</td>\n",
       "      <td>97.0</td>\n",
       "      <td>15</td>\n",
       "      <td>3489.0396</td>\n",
       "      <td>2</td>\n",
       "      <td>1</td>\n",
       "      <td>1</td>\n",
       "      <td>4</td>\n",
       "      <td>B</td>\n",
       "      <td>211</td>\n",
       "      <td>Recent Customer</td>\n",
       "    </tr>\n",
       "    <tr>\n",
       "      <th>4</th>\n",
       "      <td>AH-10210</td>\n",
       "      <td>6.0</td>\n",
       "      <td>13</td>\n",
       "      <td>4805.3440</td>\n",
       "      <td>2</td>\n",
       "      <td>1</td>\n",
       "      <td>1</td>\n",
       "      <td>4</td>\n",
       "      <td>B</td>\n",
       "      <td>211</td>\n",
       "      <td>Recent Customer</td>\n",
       "    </tr>\n",
       "  </tbody>\n",
       "</table>\n",
       "</div>"
      ],
      "text/plain": [
       "  Customer ID  recency  frequency   monetary recency_c frequency_c monetary_c  \\\n",
       "0    AA-10315    184.0         11  5563.5600         2           1          1   \n",
       "1    AA-10645     55.0         18  5086.9350         2           1          1   \n",
       "2    AD-10180     29.0         12  6106.8800         2           1          1   \n",
       "3    AG-10675     97.0         15  3489.0396         2           1          1   \n",
       "4    AH-10210      6.0         13  4805.3440         2           1          1   \n",
       "\n",
       "   Overall_Scoring segment_overall_scoring Scoring      RFM_cluster  \n",
       "0                4                       B     211  Recent Customer  \n",
       "1                4                       B     211  Recent Customer  \n",
       "2                4                       B     211  Recent Customer  \n",
       "3                4                       B     211  Recent Customer  \n",
       "4                4                       B     211  Recent Customer  "
      ]
     },
     "execution_count": 121,
     "metadata": {},
     "output_type": "execute_result"
    }
   ],
   "source": [
    "rfm_df.head()"
   ]
  },
  {
   "cell_type": "code",
   "execution_count": 122,
   "id": "4fc104d5",
   "metadata": {
    "id": "4fc104d5"
   },
   "outputs": [
    {
     "data": {
      "text/plain": [
       "<AxesSubplot:>"
      ]
     },
     "execution_count": 122,
     "metadata": {},
     "output_type": "execute_result"
    },
    {
     "data": {
      "image/png": "[encoded data removed]",
      "text/plain": [
       "<Figure size 432x288 with 1 Axes>"
      ]
     },
     "metadata": {
      "needs_background": "light"
     },
     "output_type": "display_data"
    }
   ],
   "source": [
    "rfm_df['RFM_cluster'].value_counts().plot(kind='bar')"
   ]
  },
  {
   "cell_type": "code",
   "execution_count": 123,
   "id": "901def42",
   "metadata": {
    "id": "901def42"
   },
   "outputs": [],
   "source": [
    "df_cust.reset_index(inplace=True)\n",
    "df_cust.rename(columns={'Cluster': 'Cluster Demo'}, inplace=True)"
   ]
  },
  {
   "cell_type": "code",
   "execution_count": 125,
   "id": "bcccb84c",
   "metadata": {},
   "outputs": [
    {
     "data": {
      "text/html": [
       "<div>\n",
       "<style scoped>\n",
       "    .dataframe tbody tr th:only-of-type {\n",
       "        vertical-align: middle;\n",
       "    }\n",
       "\n",
       "    .dataframe tbody tr th {\n",
       "        vertical-align: top;\n",
       "    }\n",
       "\n",
       "    .dataframe thead th {\n",
       "        text-align: right;\n",
       "    }\n",
       "</style>\n",
       "<table border=\"1\" class=\"dataframe\">\n",
       "  <thead>\n",
       "    <tr style=\"text-align: right;\">\n",
       "      <th></th>\n",
       "      <th>Customer ID</th>\n",
       "      <th>Gender</th>\n",
       "      <th>Marital Status</th>\n",
       "      <th>Salary</th>\n",
       "      <th>Age</th>\n",
       "      <th>Occupation</th>\n",
       "      <th>Region</th>\n",
       "      <th>Cluster Demo</th>\n",
       "    </tr>\n",
       "  </thead>\n",
       "  <tbody>\n",
       "    <tr>\n",
       "      <th>0</th>\n",
       "      <td>FC-14335</td>\n",
       "      <td>Male</td>\n",
       "      <td>Not Married</td>\n",
       "      <td>2000-2999</td>\n",
       "      <td>25-39</td>\n",
       "      <td>Senior Customer Relation</td>\n",
       "      <td>West</td>\n",
       "      <td>Perempuan berusia 10-24 dan sudah menikah, pek...</td>\n",
       "    </tr>\n",
       "    <tr>\n",
       "      <th>1</th>\n",
       "      <td>JP-15520</td>\n",
       "      <td>Female</td>\n",
       "      <td>Married</td>\n",
       "      <td>3000-3999</td>\n",
       "      <td>40-59</td>\n",
       "      <td>BOD</td>\n",
       "      <td>West</td>\n",
       "      <td>Perempuan berusia 25-39 dan Belum/Tidak menika...</td>\n",
       "    </tr>\n",
       "  </tbody>\n",
       "</table>\n",
       "</div>"
      ],
      "text/plain": [
       "  Customer ID  Gender Marital Status     Salary    Age  \\\n",
       "0    FC-14335    Male    Not Married  2000-2999  25-39   \n",
       "1    JP-15520  Female        Married  3000-3999  40-59   \n",
       "\n",
       "                 Occupation Region  \\\n",
       "0  Senior Customer Relation   West   \n",
       "1                       BOD   West   \n",
       "\n",
       "                                        Cluster Demo  \n",
       "0  Perempuan berusia 10-24 dan sudah menikah, pek...  \n",
       "1  Perempuan berusia 25-39 dan Belum/Tidak menika...  "
      ]
     },
     "execution_count": 125,
     "metadata": {},
     "output_type": "execute_result"
    }
   ],
   "source": [
    "df_cust.head(2)"
   ]
  },
  {
   "cell_type": "code",
   "execution_count": 126,
   "id": "8f3d0821",
   "metadata": {
    "id": "8f3d0821"
   },
   "outputs": [],
   "source": [
    "cust_segment = df_cust.merge(rfm_df, how='left', on='Customer ID')"
   ]
  },
  {
   "cell_type": "code",
   "execution_count": 127,
   "id": "qsnrlComS9Ya",
   "metadata": {
    "id": "qsnrlComS9Ya"
   },
   "outputs": [
    {
     "data": {
      "text/html": [
       "<div>\n",
       "<style scoped>\n",
       "    .dataframe tbody tr th:only-of-type {\n",
       "        vertical-align: middle;\n",
       "    }\n",
       "\n",
       "    .dataframe tbody tr th {\n",
       "        vertical-align: top;\n",
       "    }\n",
       "\n",
       "    .dataframe thead th {\n",
       "        text-align: right;\n",
       "    }\n",
       "</style>\n",
       "<table border=\"1\" class=\"dataframe\">\n",
       "  <thead>\n",
       "    <tr style=\"text-align: right;\">\n",
       "      <th></th>\n",
       "      <th>Customer ID</th>\n",
       "      <th>Gender</th>\n",
       "      <th>Marital Status</th>\n",
       "      <th>Salary</th>\n",
       "      <th>Age</th>\n",
       "      <th>Occupation</th>\n",
       "      <th>Region</th>\n",
       "      <th>Cluster Demo</th>\n",
       "      <th>recency</th>\n",
       "      <th>frequency</th>\n",
       "      <th>monetary</th>\n",
       "      <th>recency_c</th>\n",
       "      <th>frequency_c</th>\n",
       "      <th>monetary_c</th>\n",
       "      <th>Overall_Scoring</th>\n",
       "      <th>segment_overall_scoring</th>\n",
       "      <th>Scoring</th>\n",
       "      <th>RFM_cluster</th>\n",
       "    </tr>\n",
       "  </thead>\n",
       "  <tbody>\n",
       "    <tr>\n",
       "      <th>0</th>\n",
       "      <td>FC-14335</td>\n",
       "      <td>Male</td>\n",
       "      <td>Not Married</td>\n",
       "      <td>2000-2999</td>\n",
       "      <td>25-39</td>\n",
       "      <td>Senior Customer Relation</td>\n",
       "      <td>West</td>\n",
       "      <td>Perempuan berusia 10-24 dan sudah menikah, pek...</td>\n",
       "      <td>184.0</td>\n",
       "      <td>10</td>\n",
       "      <td>3889.366</td>\n",
       "      <td>2</td>\n",
       "      <td>0</td>\n",
       "      <td>1</td>\n",
       "      <td>3</td>\n",
       "      <td>B</td>\n",
       "      <td>201</td>\n",
       "      <td>Recent Customer</td>\n",
       "    </tr>\n",
       "    <tr>\n",
       "      <th>1</th>\n",
       "      <td>JP-15520</td>\n",
       "      <td>Female</td>\n",
       "      <td>Married</td>\n",
       "      <td>3000-3999</td>\n",
       "      <td>40-59</td>\n",
       "      <td>BOD</td>\n",
       "      <td>West</td>\n",
       "      <td>Perempuan berusia 25-39 dan Belum/Tidak menika...</td>\n",
       "      <td>8.0</td>\n",
       "      <td>16</td>\n",
       "      <td>3635.594</td>\n",
       "      <td>2</td>\n",
       "      <td>1</td>\n",
       "      <td>1</td>\n",
       "      <td>4</td>\n",
       "      <td>B</td>\n",
       "      <td>211</td>\n",
       "      <td>Recent Customer</td>\n",
       "    </tr>\n",
       "  </tbody>\n",
       "</table>\n",
       "</div>"
      ],
      "text/plain": [
       "  Customer ID  Gender Marital Status     Salary    Age  \\\n",
       "0    FC-14335    Male    Not Married  2000-2999  25-39   \n",
       "1    JP-15520  Female        Married  3000-3999  40-59   \n",
       "\n",
       "                 Occupation Region  \\\n",
       "0  Senior Customer Relation   West   \n",
       "1                       BOD   West   \n",
       "\n",
       "                                        Cluster Demo  recency  frequency  \\\n",
       "0  Perempuan berusia 10-24 dan sudah menikah, pek...    184.0         10   \n",
       "1  Perempuan berusia 25-39 dan Belum/Tidak menika...      8.0         16   \n",
       "\n",
       "   monetary recency_c frequency_c monetary_c  Overall_Scoring  \\\n",
       "0  3889.366         2           0          1                3   \n",
       "1  3635.594         2           1          1                4   \n",
       "\n",
       "  segment_overall_scoring Scoring      RFM_cluster  \n",
       "0                       B     201  Recent Customer  \n",
       "1                       B     211  Recent Customer  "
      ]
     },
     "execution_count": 127,
     "metadata": {},
     "output_type": "execute_result"
    }
   ],
   "source": [
    "cust_segment.head(2)"
   ]
  },
  {
   "cell_type": "code",
   "execution_count": 128,
   "id": "6768b221",
   "metadata": {
    "id": "6768b221"
   },
   "outputs": [],
   "source": [
    "segment_result = cust_segment[['Customer ID', 'Cluster Demo', 'recency', 'frequency', 'monetary', 'segment_overall_scoring', 'RFM_cluster']]"
   ]
  },
  {
   "cell_type": "code",
   "execution_count": 129,
   "id": "f12f5d85",
   "metadata": {
    "id": "f12f5d85"
   },
   "outputs": [],
   "source": [
    "segment_result.to_csv('customer_segmentation.csv', index=False)"
   ]
  },
  {
   "cell_type": "code",
   "execution_count": 130,
   "id": "3a7ae792",
   "metadata": {
    "id": "3a7ae792"
   },
   "outputs": [
    {
     "data": {
      "text/html": [
       "<div>\n",
       "<style scoped>\n",
       "    .dataframe tbody tr th:only-of-type {\n",
       "        vertical-align: middle;\n",
       "    }\n",
       "\n",
       "    .dataframe tbody tr th {\n",
       "        vertical-align: top;\n",
       "    }\n",
       "\n",
       "    .dataframe thead th {\n",
       "        text-align: right;\n",
       "    }\n",
       "</style>\n",
       "<table border=\"1\" class=\"dataframe\">\n",
       "  <thead>\n",
       "    <tr style=\"text-align: right;\">\n",
       "      <th></th>\n",
       "      <th>Customer ID</th>\n",
       "      <th>Cluster Demo</th>\n",
       "      <th>recency</th>\n",
       "      <th>frequency</th>\n",
       "      <th>monetary</th>\n",
       "      <th>segment_overall_scoring</th>\n",
       "      <th>RFM_cluster</th>\n",
       "    </tr>\n",
       "  </thead>\n",
       "  <tbody>\n",
       "    <tr>\n",
       "      <th>0</th>\n",
       "      <td>FC-14335</td>\n",
       "      <td>Perempuan berusia 10-24 dan sudah menikah, pek...</td>\n",
       "      <td>184.0</td>\n",
       "      <td>10</td>\n",
       "      <td>3889.366</td>\n",
       "      <td>B</td>\n",
       "      <td>Recent Customer</td>\n",
       "    </tr>\n",
       "    <tr>\n",
       "      <th>1</th>\n",
       "      <td>JP-15520</td>\n",
       "      <td>Perempuan berusia 25-39 dan Belum/Tidak menika...</td>\n",
       "      <td>8.0</td>\n",
       "      <td>16</td>\n",
       "      <td>3635.594</td>\n",
       "      <td>B</td>\n",
       "      <td>Recent Customer</td>\n",
       "    </tr>\n",
       "    <tr>\n",
       "      <th>2</th>\n",
       "      <td>SR-20425</td>\n",
       "      <td>laki-laki berusia 40-59 dan sudah menikah, pek...</td>\n",
       "      <td>8.0</td>\n",
       "      <td>9</td>\n",
       "      <td>3233.481</td>\n",
       "      <td>B</td>\n",
       "      <td>Recent Customer</td>\n",
       "    </tr>\n",
       "  </tbody>\n",
       "</table>\n",
       "</div>"
      ],
      "text/plain": [
       "  Customer ID                                       Cluster Demo  recency  \\\n",
       "0    FC-14335  Perempuan berusia 10-24 dan sudah menikah, pek...    184.0   \n",
       "1    JP-15520  Perempuan berusia 25-39 dan Belum/Tidak menika...      8.0   \n",
       "2    SR-20425  laki-laki berusia 40-59 dan sudah menikah, pek...      8.0   \n",
       "\n",
       "   frequency  monetary segment_overall_scoring      RFM_cluster  \n",
       "0         10  3889.366                       B  Recent Customer  \n",
       "1         16  3635.594                       B  Recent Customer  \n",
       "2          9  3233.481                       B  Recent Customer  "
      ]
     },
     "execution_count": 130,
     "metadata": {},
     "output_type": "execute_result"
    }
   ],
   "source": [
    "segment_result.head(3)"
   ]
  },
  {
   "cell_type": "code",
   "execution_count": null,
   "id": "42441d82",
   "metadata": {},
   "outputs": [],
   "source": []
  }
 ],
 "metadata": {
  "colab": {
   "collapsed_sections": [
    "1d8ff884",
    "6c6a3ca3",
    "e6a9f0f4",
    "1879e41b",
    "739921a0",
    "07958f1a",
    "80b11cc6",
    "8db4c187"
   ],
   "name": "Customer Analysis - RFM Analysis.ipynb",
   "provenance": []
  },
  "kernelspec": {
   "display_name": "Python 3",
   "language": "python",
   "name": "python3"
  },
  "language_info": {
   "codemirror_mode": {
    "name": "ipython",
    "version": 3
   },
   "file_extension": ".py",
   "mimetype": "text/x-python",
   "name": "python",
   "nbconvert_exporter": "python",
   "pygments_lexer": "ipython3",
   "version": "3.8.8"
  }
 },
 "nbformat": 4,
 "nbformat_minor": 5
}
